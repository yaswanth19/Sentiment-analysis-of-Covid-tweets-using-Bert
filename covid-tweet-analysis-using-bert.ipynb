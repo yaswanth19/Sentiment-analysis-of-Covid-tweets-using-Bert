{
 "cells": [
  {
   "cell_type": "markdown",
   "metadata": {},
   "source": [
    "# Twitter Sentiment Analysis with BERT"
   ]
  },
  {
   "cell_type": "markdown",
   "metadata": {},
   "source": [
    "#### The project is about analysis of  Covid tweets with the model used being **Bert** for predicting the emotion of tweet"
   ]
  },
  {
   "cell_type": "markdown",
   "metadata": {},
   "source": [
    "# Importing the libraries"
   ]
  },
  {
   "cell_type": "code",
   "execution_count": 95,
   "metadata": {
    "_cell_guid": "b1076dfc-b9ad-4769-8c92-a6c4dae69d19",
    "_uuid": "8f2839f25d086af736a60e9eeb907d3b93b6e0e5",
    "execution": {
     "iopub.execute_input": "2022-01-13T02:59:26.050811Z",
     "iopub.status.busy": "2022-01-13T02:59:26.050510Z",
     "iopub.status.idle": "2022-01-13T02:59:26.058039Z",
     "shell.execute_reply": "2022-01-13T02:59:26.057117Z",
     "shell.execute_reply.started": "2022-01-13T02:59:26.050780Z"
    }
   },
   "outputs": [],
   "source": [
    "#General purpose\n",
    "import pandas as pd\n",
    "import numpy as np\n",
    "import matplotlib.pyplot as plt\n",
    "from tqdm import tqdm\n",
    "import seaborn as sns\n",
    "\n",
    "\n",
    "\n",
    "import tensorflow as tf\n",
    "import tensorflow.keras as keras\n",
    "\n",
    "#Libraries for text\n",
    "import os\n",
    "import nltk\n",
    "import emoji \n",
    "import re\n",
    "import string\n",
    "\n",
    "#Metrics\n",
    "from sklearn.metrics import accuracy_score,f1_score\n",
    "from sklearn.model_selection import train_test_split\n",
    "from sklearn.metrics import classification_report,confusion_matrix"
   ]
  },
  {
   "cell_type": "code",
   "execution_count": 2,
   "metadata": {
    "execution": {
     "iopub.execute_input": "2022-01-13T02:01:58.530774Z",
     "iopub.status.busy": "2022-01-13T02:01:58.530570Z",
     "iopub.status.idle": "2022-01-13T02:02:00.087023Z",
     "shell.execute_reply": "2022-01-13T02:02:00.086292Z",
     "shell.execute_reply.started": "2022-01-13T02:01:58.530749Z"
    }
   },
   "outputs": [],
   "source": [
    "from transformers import BertTokenizerFast\n",
    "from transformers import TFBertModel\n",
    "from transformers import TFRobertaModel\n",
    "from transformers import RobertaTokenizerFast"
   ]
  },
  {
   "cell_type": "markdown",
   "metadata": {},
   "source": [
    "# Loading the datasets"
   ]
  },
  {
   "cell_type": "code",
   "execution_count": 3,
   "metadata": {
    "execution": {
     "iopub.execute_input": "2022-01-13T02:02:00.088511Z",
     "iopub.status.busy": "2022-01-13T02:02:00.088270Z",
     "iopub.status.idle": "2022-01-13T02:02:00.664861Z",
     "shell.execute_reply": "2022-01-13T02:02:00.664194Z",
     "shell.execute_reply.started": "2022-01-13T02:02:00.088479Z"
    }
   },
   "outputs": [
    {
     "data": {
      "text/html": [
       "<div>\n",
       "<style scoped>\n",
       "    .dataframe tbody tr th:only-of-type {\n",
       "        vertical-align: middle;\n",
       "    }\n",
       "\n",
       "    .dataframe tbody tr th {\n",
       "        vertical-align: top;\n",
       "    }\n",
       "\n",
       "    .dataframe thead th {\n",
       "        text-align: right;\n",
       "    }\n",
       "</style>\n",
       "<table border=\"1\" class=\"dataframe\">\n",
       "  <thead>\n",
       "    <tr style=\"text-align: right;\">\n",
       "      <th></th>\n",
       "      <th>UserName</th>\n",
       "      <th>ScreenName</th>\n",
       "      <th>Location</th>\n",
       "      <th>TweetAt</th>\n",
       "      <th>OriginalTweet</th>\n",
       "      <th>Sentiment</th>\n",
       "    </tr>\n",
       "  </thead>\n",
       "  <tbody>\n",
       "    <tr>\n",
       "      <th>0</th>\n",
       "      <td>3799</td>\n",
       "      <td>48751</td>\n",
       "      <td>London</td>\n",
       "      <td>16-03-2020</td>\n",
       "      <td>@MeNyrbie @Phil_Gahan @Chrisitv https://t.co/i...</td>\n",
       "      <td>Neutral</td>\n",
       "    </tr>\n",
       "    <tr>\n",
       "      <th>1</th>\n",
       "      <td>3800</td>\n",
       "      <td>48752</td>\n",
       "      <td>UK</td>\n",
       "      <td>16-03-2020</td>\n",
       "      <td>advice Talk to your neighbours family to excha...</td>\n",
       "      <td>Positive</td>\n",
       "    </tr>\n",
       "    <tr>\n",
       "      <th>2</th>\n",
       "      <td>3801</td>\n",
       "      <td>48753</td>\n",
       "      <td>Vagabonds</td>\n",
       "      <td>16-03-2020</td>\n",
       "      <td>Coronavirus Australia: Woolworths to give elde...</td>\n",
       "      <td>Positive</td>\n",
       "    </tr>\n",
       "    <tr>\n",
       "      <th>3</th>\n",
       "      <td>3802</td>\n",
       "      <td>48754</td>\n",
       "      <td>NaN</td>\n",
       "      <td>16-03-2020</td>\n",
       "      <td>My food stock is not the only one which is emp...</td>\n",
       "      <td>Positive</td>\n",
       "    </tr>\n",
       "    <tr>\n",
       "      <th>4</th>\n",
       "      <td>3803</td>\n",
       "      <td>48755</td>\n",
       "      <td>NaN</td>\n",
       "      <td>16-03-2020</td>\n",
       "      <td>Me, ready to go at supermarket during the #COV...</td>\n",
       "      <td>Extremely Negative</td>\n",
       "    </tr>\n",
       "  </tbody>\n",
       "</table>\n",
       "</div>"
      ],
      "text/plain": [
       "   UserName  ScreenName   Location     TweetAt  \\\n",
       "0      3799       48751     London  16-03-2020   \n",
       "1      3800       48752         UK  16-03-2020   \n",
       "2      3801       48753  Vagabonds  16-03-2020   \n",
       "3      3802       48754        NaN  16-03-2020   \n",
       "4      3803       48755        NaN  16-03-2020   \n",
       "\n",
       "                                       OriginalTweet           Sentiment  \n",
       "0  @MeNyrbie @Phil_Gahan @Chrisitv https://t.co/i...             Neutral  \n",
       "1  advice Talk to your neighbours family to excha...            Positive  \n",
       "2  Coronavirus Australia: Woolworths to give elde...            Positive  \n",
       "3  My food stock is not the only one which is emp...            Positive  \n",
       "4  Me, ready to go at supermarket during the #COV...  Extremely Negative  "
      ]
     },
     "execution_count": 3,
     "metadata": {},
     "output_type": "execute_result"
    }
   ],
   "source": [
    "df=pd.read_csv(r\"../input/covid-19-nlp-text-classification/Corona_NLP_train.csv\",encoding='latin-1')\n",
    "df_test=pd.read_csv(\"../input/covid-19-nlp-text-classification/Corona_NLP_test.csv\")\n",
    "df.head()"
   ]
  },
  {
   "cell_type": "code",
   "execution_count": 4,
   "metadata": {
    "execution": {
     "iopub.execute_input": "2022-01-13T02:02:00.667107Z",
     "iopub.status.busy": "2022-01-13T02:02:00.666782Z",
     "iopub.status.idle": "2022-01-13T02:02:00.672719Z",
     "shell.execute_reply": "2022-01-13T02:02:00.671943Z",
     "shell.execute_reply.started": "2022-01-13T02:02:00.667070Z"
    }
   },
   "outputs": [
    {
     "data": {
      "text/plain": [
       "(41157, 6)"
      ]
     },
     "execution_count": 4,
     "metadata": {},
     "output_type": "execute_result"
    }
   ],
   "source": [
    "df.shape"
   ]
  },
  {
   "cell_type": "code",
   "execution_count": 5,
   "metadata": {
    "execution": {
     "iopub.execute_input": "2022-01-13T02:02:00.674766Z",
     "iopub.status.busy": "2022-01-13T02:02:00.674243Z",
     "iopub.status.idle": "2022-01-13T02:02:00.710905Z",
     "shell.execute_reply": "2022-01-13T02:02:00.710262Z",
     "shell.execute_reply.started": "2022-01-13T02:02:00.674725Z"
    }
   },
   "outputs": [
    {
     "name": "stdout",
     "output_type": "stream",
     "text": [
      "<class 'pandas.core.frame.DataFrame'>\n",
      "RangeIndex: 41157 entries, 0 to 41156\n",
      "Data columns (total 6 columns):\n",
      " #   Column         Non-Null Count  Dtype \n",
      "---  ------         --------------  ----- \n",
      " 0   UserName       41157 non-null  int64 \n",
      " 1   ScreenName     41157 non-null  int64 \n",
      " 2   Location       32567 non-null  object\n",
      " 3   TweetAt        41157 non-null  object\n",
      " 4   OriginalTweet  41157 non-null  object\n",
      " 5   Sentiment      41157 non-null  object\n",
      "dtypes: int64(2), object(4)\n",
      "memory usage: 1.9+ MB\n"
     ]
    }
   ],
   "source": [
    "df.info()"
   ]
  },
  {
   "cell_type": "code",
   "execution_count": 6,
   "metadata": {
    "execution": {
     "iopub.execute_input": "2022-01-13T02:02:00.712276Z",
     "iopub.status.busy": "2022-01-13T02:02:00.712040Z",
     "iopub.status.idle": "2022-01-13T02:02:00.727914Z",
     "shell.execute_reply": "2022-01-13T02:02:00.727290Z",
     "shell.execute_reply.started": "2022-01-13T02:02:00.712245Z"
    }
   },
   "outputs": [],
   "source": [
    "df['TweetAt']=pd.to_datetime(df['TweetAt'])#converting to datetime coz we will be experimenting with this column"
   ]
  },
  {
   "cell_type": "code",
   "execution_count": 7,
   "metadata": {
    "execution": {
     "iopub.execute_input": "2022-01-13T02:02:00.729149Z",
     "iopub.status.busy": "2022-01-13T02:02:00.728902Z",
     "iopub.status.idle": "2022-01-13T02:02:00.739704Z",
     "shell.execute_reply": "2022-01-13T02:02:00.739009Z",
     "shell.execute_reply.started": "2022-01-13T02:02:00.729117Z"
    }
   },
   "outputs": [
    {
     "data": {
      "text/html": [
       "<div>\n",
       "<style scoped>\n",
       "    .dataframe tbody tr th:only-of-type {\n",
       "        vertical-align: middle;\n",
       "    }\n",
       "\n",
       "    .dataframe tbody tr th {\n",
       "        vertical-align: top;\n",
       "    }\n",
       "\n",
       "    .dataframe thead th {\n",
       "        text-align: right;\n",
       "    }\n",
       "</style>\n",
       "<table border=\"1\" class=\"dataframe\">\n",
       "  <thead>\n",
       "    <tr style=\"text-align: right;\">\n",
       "      <th></th>\n",
       "      <th>UserName</th>\n",
       "      <th>ScreenName</th>\n",
       "      <th>Location</th>\n",
       "      <th>TweetAt</th>\n",
       "      <th>OriginalTweet</th>\n",
       "      <th>Sentiment</th>\n",
       "    </tr>\n",
       "  </thead>\n",
       "  <tbody>\n",
       "    <tr>\n",
       "      <th>0</th>\n",
       "      <td>3799</td>\n",
       "      <td>48751</td>\n",
       "      <td>London</td>\n",
       "      <td>2020-03-16</td>\n",
       "      <td>@MeNyrbie @Phil_Gahan @Chrisitv https://t.co/i...</td>\n",
       "      <td>Neutral</td>\n",
       "    </tr>\n",
       "    <tr>\n",
       "      <th>1</th>\n",
       "      <td>3800</td>\n",
       "      <td>48752</td>\n",
       "      <td>UK</td>\n",
       "      <td>2020-03-16</td>\n",
       "      <td>advice Talk to your neighbours family to excha...</td>\n",
       "      <td>Positive</td>\n",
       "    </tr>\n",
       "    <tr>\n",
       "      <th>2</th>\n",
       "      <td>3801</td>\n",
       "      <td>48753</td>\n",
       "      <td>Vagabonds</td>\n",
       "      <td>2020-03-16</td>\n",
       "      <td>Coronavirus Australia: Woolworths to give elde...</td>\n",
       "      <td>Positive</td>\n",
       "    </tr>\n",
       "    <tr>\n",
       "      <th>3</th>\n",
       "      <td>3802</td>\n",
       "      <td>48754</td>\n",
       "      <td>NaN</td>\n",
       "      <td>2020-03-16</td>\n",
       "      <td>My food stock is not the only one which is emp...</td>\n",
       "      <td>Positive</td>\n",
       "    </tr>\n",
       "    <tr>\n",
       "      <th>4</th>\n",
       "      <td>3803</td>\n",
       "      <td>48755</td>\n",
       "      <td>NaN</td>\n",
       "      <td>2020-03-16</td>\n",
       "      <td>Me, ready to go at supermarket during the #COV...</td>\n",
       "      <td>Extremely Negative</td>\n",
       "    </tr>\n",
       "  </tbody>\n",
       "</table>\n",
       "</div>"
      ],
      "text/plain": [
       "   UserName  ScreenName   Location    TweetAt  \\\n",
       "0      3799       48751     London 2020-03-16   \n",
       "1      3800       48752         UK 2020-03-16   \n",
       "2      3801       48753  Vagabonds 2020-03-16   \n",
       "3      3802       48754        NaN 2020-03-16   \n",
       "4      3803       48755        NaN 2020-03-16   \n",
       "\n",
       "                                       OriginalTweet           Sentiment  \n",
       "0  @MeNyrbie @Phil_Gahan @Chrisitv https://t.co/i...             Neutral  \n",
       "1  advice Talk to your neighbours family to excha...            Positive  \n",
       "2  Coronavirus Australia: Woolworths to give elde...            Positive  \n",
       "3  My food stock is not the only one which is emp...            Positive  \n",
       "4  Me, ready to go at supermarket during the #COV...  Extremely Negative  "
      ]
     },
     "execution_count": 7,
     "metadata": {},
     "output_type": "execute_result"
    }
   ],
   "source": [
    "df.head()"
   ]
  },
  {
   "cell_type": "code",
   "execution_count": 8,
   "metadata": {
    "execution": {
     "iopub.execute_input": "2022-01-13T02:02:00.741552Z",
     "iopub.status.busy": "2022-01-13T02:02:00.741085Z",
     "iopub.status.idle": "2022-01-13T02:02:00.751394Z",
     "shell.execute_reply": "2022-01-13T02:02:00.750611Z",
     "shell.execute_reply.started": "2022-01-13T02:02:00.741518Z"
    }
   },
   "outputs": [
    {
     "data": {
      "text/plain": [
       "(Timestamp('2020-12-04 00:00:00'), Timestamp('2020-01-04 00:00:00'))"
      ]
     },
     "execution_count": 8,
     "metadata": {},
     "output_type": "execute_result"
    }
   ],
   "source": [
    "df['TweetAt'].max(),df['TweetAt'].min()#Checking the latest and first date of tweets"
   ]
  },
  {
   "cell_type": "code",
   "execution_count": 9,
   "metadata": {
    "execution": {
     "iopub.execute_input": "2022-01-13T02:02:00.753210Z",
     "iopub.status.busy": "2022-01-13T02:02:00.752938Z",
     "iopub.status.idle": "2022-01-13T02:02:00.789502Z",
     "shell.execute_reply": "2022-01-13T02:02:00.788867Z",
     "shell.execute_reply.started": "2022-01-13T02:02:00.753174Z"
    }
   },
   "outputs": [],
   "source": [
    "df.drop_duplicates(subset='OriginalTweet',inplace=True)#Dropping the duplicates from the dataframe"
   ]
  },
  {
   "cell_type": "markdown",
   "metadata": {},
   "source": [
    "# Tweets per day"
   ]
  },
  {
   "cell_type": "code",
   "execution_count": 10,
   "metadata": {
    "execution": {
     "iopub.execute_input": "2022-01-13T02:02:00.792887Z",
     "iopub.status.busy": "2022-01-13T02:02:00.792706Z",
     "iopub.status.idle": "2022-01-13T02:02:01.060860Z",
     "shell.execute_reply": "2022-01-13T02:02:01.060169Z",
     "shell.execute_reply.started": "2022-01-13T02:02:00.792864Z"
    }
   },
   "outputs": [],
   "source": [
    "tweets_per_day=df['TweetAt'].dt.strftime('%m-%d').value_counts().sort_index().reset_index(name='counts')"
   ]
  },
  {
   "cell_type": "code",
   "execution_count": 11,
   "metadata": {
    "execution": {
     "iopub.execute_input": "2022-01-13T02:02:01.063621Z",
     "iopub.status.busy": "2022-01-13T02:02:01.063131Z",
     "iopub.status.idle": "2022-01-13T02:02:01.071859Z",
     "shell.execute_reply": "2022-01-13T02:02:01.071090Z",
     "shell.execute_reply.started": "2022-01-13T02:02:01.063585Z"
    }
   },
   "outputs": [
    {
     "data": {
      "text/html": [
       "<div>\n",
       "<style scoped>\n",
       "    .dataframe tbody tr th:only-of-type {\n",
       "        vertical-align: middle;\n",
       "    }\n",
       "\n",
       "    .dataframe tbody tr th {\n",
       "        vertical-align: top;\n",
       "    }\n",
       "\n",
       "    .dataframe thead th {\n",
       "        text-align: right;\n",
       "    }\n",
       "</style>\n",
       "<table border=\"1\" class=\"dataframe\">\n",
       "  <thead>\n",
       "    <tr style=\"text-align: right;\">\n",
       "      <th></th>\n",
       "      <th>index</th>\n",
       "      <th>counts</th>\n",
       "    </tr>\n",
       "  </thead>\n",
       "  <tbody>\n",
       "    <tr>\n",
       "      <th>0</th>\n",
       "      <td>01-04</td>\n",
       "      <td>630</td>\n",
       "    </tr>\n",
       "    <tr>\n",
       "      <th>1</th>\n",
       "      <td>02-04</td>\n",
       "      <td>954</td>\n",
       "    </tr>\n",
       "    <tr>\n",
       "      <th>2</th>\n",
       "      <td>03-04</td>\n",
       "      <td>810</td>\n",
       "    </tr>\n",
       "    <tr>\n",
       "      <th>3</th>\n",
       "      <td>03-16</td>\n",
       "      <td>656</td>\n",
       "    </tr>\n",
       "    <tr>\n",
       "      <th>4</th>\n",
       "      <td>03-17</td>\n",
       "      <td>1977</td>\n",
       "    </tr>\n",
       "  </tbody>\n",
       "</table>\n",
       "</div>"
      ],
      "text/plain": [
       "   index  counts\n",
       "0  01-04     630\n",
       "1  02-04     954\n",
       "2  03-04     810\n",
       "3  03-16     656\n",
       "4  03-17    1977"
      ]
     },
     "execution_count": 11,
     "metadata": {},
     "output_type": "execute_result"
    }
   ],
   "source": [
    "tweets_per_day.head()"
   ]
  },
  {
   "cell_type": "code",
   "execution_count": 12,
   "metadata": {
    "execution": {
     "iopub.execute_input": "2022-01-13T02:02:01.073632Z",
     "iopub.status.busy": "2022-01-13T02:02:01.073281Z",
     "iopub.status.idle": "2022-01-13T02:02:01.696177Z",
     "shell.execute_reply": "2022-01-13T02:02:01.695539Z",
     "shell.execute_reply.started": "2022-01-13T02:02:01.073598Z"
    }
   },
   "outputs": [
    {
     "data": {
      "text/plain": [
       "Text(0.5, 0, 'Date')"
      ]
     },
     "execution_count": 12,
     "metadata": {},
     "output_type": "execute_result"
    },
    {
     "data": {
      "image/png": "[encoded data removed]",
      "text/plain": [
       "<Figure size 1800x360 with 1 Axes>"
      ]
     },
     "metadata": {
      "needs_background": "light"
     },
     "output_type": "display_data"
    }
   ],
   "source": [
    "plt.figure(figsize=(25,5))\n",
    "plt.title(\"Tweetes per day\")\n",
    "ax=sns.barplot(data=tweets_per_day,y='counts',x='index',edgecolor='blue')\n",
    "ax.bar_label(ax.containers[0])\n",
    "plt.ylabel('Counts')\n",
    "plt.xlabel('Date')"
   ]
  },
  {
   "cell_type": "markdown",
   "metadata": {},
   "source": [
    "Most of the tweets are around the end of march when covid was rising"
   ]
  },
  {
   "cell_type": "markdown",
   "metadata": {},
   "source": [
    "# Tweets per country"
   ]
  },
  {
   "cell_type": "code",
   "execution_count": 13,
   "metadata": {
    "execution": {
     "iopub.execute_input": "2022-01-13T02:02:01.697804Z",
     "iopub.status.busy": "2022-01-13T02:02:01.697384Z",
     "iopub.status.idle": "2022-01-13T02:02:01.714868Z",
     "shell.execute_reply": "2022-01-13T02:02:01.714208Z",
     "shell.execute_reply.started": "2022-01-13T02:02:01.697765Z"
    }
   },
   "outputs": [
    {
     "data": {
      "text/plain": [
       "London                          540\n",
       "United States                   528\n",
       "London, England                 520\n",
       "New York, NY                    395\n",
       "Washington, DC                  373\n",
       "                               ... \n",
       "Staffordshire Moorlands           1\n",
       "Kithchener ON                     1\n",
       "Tulsa, Ok                         1\n",
       "Watford, South Oxhey, Bushey      1\n",
       "i love you so much || he/him      1\n",
       "Name: Location, Length: 12220, dtype: int64"
      ]
     },
     "execution_count": 13,
     "metadata": {},
     "output_type": "execute_result"
    }
   ],
   "source": [
    "df['Location'].value_counts()"
   ]
  },
  {
   "cell_type": "code",
   "execution_count": 14,
   "metadata": {
    "execution": {
     "iopub.execute_input": "2022-01-13T02:02:01.716245Z",
     "iopub.status.busy": "2022-01-13T02:02:01.715929Z",
     "iopub.status.idle": "2022-01-13T02:02:01.732079Z",
     "shell.execute_reply": "2022-01-13T02:02:01.731401Z",
     "shell.execute_reply.started": "2022-01-13T02:02:01.716202Z"
    }
   },
   "outputs": [],
   "source": [
    "tweets_per_country=df['Location'].value_counts().loc[lambda x : x > 100].reset_index(name='counts')\n"
   ]
  },
  {
   "cell_type": "code",
   "execution_count": 15,
   "metadata": {
    "execution": {
     "iopub.execute_input": "2022-01-13T02:02:01.733762Z",
     "iopub.status.busy": "2022-01-13T02:02:01.733483Z",
     "iopub.status.idle": "2022-01-13T02:02:02.292817Z",
     "shell.execute_reply": "2022-01-13T02:02:02.292102Z",
     "shell.execute_reply.started": "2022-01-13T02:02:01.733722Z"
    }
   },
   "outputs": [
    {
     "data": {
      "text/plain": [
       "(array([ 0,  1,  2,  3,  4,  5,  6,  7,  8,  9, 10, 11, 12, 13, 14, 15, 16,\n",
       "        17, 18, 19, 20, 21, 22, 23, 24]),\n",
       " [Text(0, 0, 'London'),\n",
       "  Text(1, 0, 'United States'),\n",
       "  Text(2, 0, 'London, England'),\n",
       "  Text(3, 0, 'New York, NY'),\n",
       "  Text(4, 0, 'Washington, DC'),\n",
       "  Text(5, 0, 'United Kingdom'),\n",
       "  Text(6, 0, 'Los Angeles, CA'),\n",
       "  Text(7, 0, 'India'),\n",
       "  Text(8, 0, 'UK'),\n",
       "  Text(9, 0, 'Australia'),\n",
       "  Text(10, 0, 'USA'),\n",
       "  Text(11, 0, 'Canada'),\n",
       "  Text(12, 0, 'England, United Kingdom'),\n",
       "  Text(13, 0, 'Toronto, Ontario'),\n",
       "  Text(14, 0, 'Global'),\n",
       "  Text(15, 0, 'Chicago, IL'),\n",
       "  Text(16, 0, 'California, USA'),\n",
       "  Text(17, 0, 'San Francisco, CA'),\n",
       "  Text(18, 0, 'Boston, MA'),\n",
       "  Text(19, 0, 'New York, USA'),\n",
       "  Text(20, 0, 'New Delhi, India'),\n",
       "  Text(21, 0, 'Atlanta, GA'),\n",
       "  Text(22, 0, 'New York'),\n",
       "  Text(23, 0, 'Mumbai, India'),\n",
       "  Text(24, 0, 'Worldwide')])"
      ]
     },
     "execution_count": 15,
     "metadata": {},
     "output_type": "execute_result"
    },
    {
     "data": {
      "image/png": "[encoded data removed]",
      "text/plain": [
       "<Figure size 1080x432 with 1 Axes>"
      ]
     },
     "metadata": {
      "needs_background": "light"
     },
     "output_type": "display_data"
    }
   ],
   "source": [
    "plt.figure(figsize=(15,6))\n",
    "plt.title(\"Tweetes per country\")\n",
    "ax=sns.barplot(data=tweets_per_country,y='counts',x='index',edgecolor='blue')\n",
    "ax.bar_label(ax.containers[0])\n",
    "plt.ylabel('Counts')\n",
    "plt.xlabel('Country')\n",
    "plt.xticks(rotation=60)"
   ]
  },
  {
   "cell_type": "markdown",
   "metadata": {},
   "source": [
    "#### There are some cities,some countries,and some uncommon country names in the data but this doesn't bother coz we will be considering only two columns namely 'OriginalTweet' and 'Sentiment'"
   ]
  },
  {
   "cell_type": "code",
   "execution_count": 16,
   "metadata": {
    "execution": {
     "iopub.execute_input": "2022-01-13T02:02:02.294166Z",
     "iopub.status.busy": "2022-01-13T02:02:02.293820Z",
     "iopub.status.idle": "2022-01-13T02:02:02.303157Z",
     "shell.execute_reply": "2022-01-13T02:02:02.302467Z",
     "shell.execute_reply.started": "2022-01-13T02:02:02.294133Z"
    }
   },
   "outputs": [],
   "source": [
    "df=df[['OriginalTweet','Sentiment']]\n",
    "df_test=df_test[['OriginalTweet','Sentiment']]"
   ]
  },
  {
   "cell_type": "markdown",
   "metadata": {},
   "source": [
    "Selecting the OriginalTweet and Sentiment column for our dataframe"
   ]
  },
  {
   "cell_type": "markdown",
   "metadata": {},
   "source": [
    "# Deep cleaning of tweets"
   ]
  },
  {
   "cell_type": "code",
   "execution_count": 17,
   "metadata": {
    "execution": {
     "iopub.execute_input": "2022-01-13T02:02:02.304675Z",
     "iopub.status.busy": "2022-01-13T02:02:02.304405Z",
     "iopub.status.idle": "2022-01-13T02:02:02.315690Z",
     "shell.execute_reply": "2022-01-13T02:02:02.314990Z",
     "shell.execute_reply.started": "2022-01-13T02:02:02.304641Z"
    }
   },
   "outputs": [],
   "source": [
    "def remove_emoji(tweet):\n",
    "    return re.sub(emoji.get_emoji_regexp(),r\"\",tweet)\n",
    "#Removing the emojis because our model can't understand text so it will also not understand emojis😂\n",
    "\n",
    "def remove_extras(tweet):\n",
    "    tweet=tweet.replace('\\n','').replace('\\r','').replace('\\n','').lower()\n",
    "    tweet=re.sub(r\"(?:\\@|https?\\://)\\S+\",r\"\",tweet)#reomve links and some mentions\n",
    "    tweet=re.sub(r\"[^\\x00-\\x7f]\",r\"\",tweet)#removing non utf characters\n",
    "    \n",
    "    waste_list=string.punctuation+ 'Ã'+'±'+'ã'+'¼'+'â'+'»'+'§'\n",
    "    table=str.maketrans(\"\",\"\",waste_list)#removes the characters in waste list\n",
    "    tweet=tweet.translate(table)\n",
    "    return tweet\n",
    "\n",
    "def clean_hashtags(tweet):\n",
    "    new_tweet = \" \".join(word.strip() for word in re.split('#(?!(?:hashtag)\\b)[\\w-]+(?=(?:\\s+#[\\w-]+)*\\s*$)', tweet)) #remove last hashtags\n",
    "    new_tweet2 = \" \".join(word.strip() for word in re.split('#|_', new_tweet)) #remove hashtags symbol from words in the middle of the sentence\n",
    "    return new_tweet2\n",
    "\n",
    "#Filter special characters such as & and $ present in some words\n",
    "def filter_chars(a):\n",
    "    sent = []\n",
    "    for word in a.split(' '):\n",
    "        if ('$' in word) | ('&' in word):\n",
    "            sent.append('')\n",
    "        else:\n",
    "            sent.append(word)\n",
    "    return ' '.join(sent)\n",
    "\n",
    "def remove_mult_spaces(text): # remove multiple spaces\n",
    "    return re.sub(\"\\s\\s+\" , \" \", text)"
   ]
  },
  {
   "cell_type": "code",
   "execution_count": 18,
   "metadata": {
    "execution": {
     "iopub.execute_input": "2022-01-13T02:02:02.317149Z",
     "iopub.status.busy": "2022-01-13T02:02:02.316892Z",
     "iopub.status.idle": "2022-01-13T02:02:59.754929Z",
     "shell.execute_reply": "2022-01-13T02:02:59.754158Z",
     "shell.execute_reply.started": "2022-01-13T02:02:02.317115Z"
    }
   },
   "outputs": [],
   "source": [
    "texts_new = []\n",
    "for t in df.OriginalTweet:\n",
    "    texts_new.append(remove_mult_spaces(filter_chars(clean_hashtags(remove_extras(remove_emoji(t))))))"
   ]
  },
  {
   "cell_type": "code",
   "execution_count": 19,
   "metadata": {
    "execution": {
     "iopub.execute_input": "2022-01-13T02:02:59.756355Z",
     "iopub.status.busy": "2022-01-13T02:02:59.756093Z",
     "iopub.status.idle": "2022-01-13T02:02:59.762771Z",
     "shell.execute_reply": "2022-01-13T02:02:59.761928Z",
     "shell.execute_reply.started": "2022-01-13T02:02:59.756319Z"
    }
   },
   "outputs": [
    {
     "data": {
      "text/plain": [
       "['advice talk to your neighbours family to exchange phone numbers create contact list with phone numbers of neighbours schools employer chemist gp set up online shopping accounts if poss adequate supplies of regular meds but not over order',\n",
       " 'coronavirus australia woolworths to give elderly disabled dedicated shopping hours amid covid19 outbreak',\n",
       " 'my food stock is not the only one which is emptyplease dont panic there will be enough food for everyone if you do not take more than you need stay calm stay safecovid19france covid19 covid19 coronavirus confinement confinementotal confinementgeneral']"
      ]
     },
     "execution_count": 19,
     "metadata": {},
     "output_type": "execute_result"
    }
   ],
   "source": [
    "texts_new[1:4]#Looking at few referenaces"
   ]
  },
  {
   "cell_type": "code",
   "execution_count": 20,
   "metadata": {
    "execution": {
     "iopub.execute_input": "2022-01-13T02:02:59.764762Z",
     "iopub.status.busy": "2022-01-13T02:02:59.763932Z",
     "iopub.status.idle": "2022-01-13T02:03:05.965901Z",
     "shell.execute_reply": "2022-01-13T02:03:05.965181Z",
     "shell.execute_reply.started": "2022-01-13T02:02:59.764707Z"
    }
   },
   "outputs": [],
   "source": [
    "test_texts_new = []\n",
    "for t in df_test.OriginalTweet:\n",
    "    test_texts_new.append(remove_mult_spaces(filter_chars(clean_hashtags(remove_extras(remove_emoji(t))))))"
   ]
  },
  {
   "cell_type": "code",
   "execution_count": 21,
   "metadata": {
    "execution": {
     "iopub.execute_input": "2022-01-13T02:03:05.967258Z",
     "iopub.status.busy": "2022-01-13T02:03:05.967015Z",
     "iopub.status.idle": "2022-01-13T02:03:05.973254Z",
     "shell.execute_reply": "2022-01-13T02:03:05.972506Z",
     "shell.execute_reply.started": "2022-01-13T02:03:05.967225Z"
    }
   },
   "outputs": [
    {
     "data": {
      "text/plain": [
       "['when i couldnt find hand sanitizer at fred meyer i turned to amazon but 11497 for a 2 pack of purellcheck out how coronavirus concerns are driving up prices',\n",
       " 'find out how you can protect yourself and loved ones from coronavirus',\n",
       " 'panic buying hits newyork city as anxious shoppers stock up on foodampmedical supplies after healthcare worker in her 30s becomes bigapple 1st confirmed coronavirus patient or a bloomberg staged event qanon2018 qanon2020 election2020 cdc']"
      ]
     },
     "execution_count": 21,
     "metadata": {},
     "output_type": "execute_result"
    }
   ],
   "source": [
    "test_texts_new[1:4]"
   ]
  },
  {
   "cell_type": "code",
   "execution_count": 22,
   "metadata": {
    "execution": {
     "iopub.execute_input": "2022-01-13T02:03:05.975168Z",
     "iopub.status.busy": "2022-01-13T02:03:05.974722Z",
     "iopub.status.idle": "2022-01-13T02:03:05.988875Z",
     "shell.execute_reply": "2022-01-13T02:03:05.988261Z",
     "shell.execute_reply.started": "2022-01-13T02:03:05.975133Z"
    }
   },
   "outputs": [],
   "source": [
    "df['clean_text']=texts_new\n",
    "df_test['clean_text']=test_texts_new"
   ]
  },
  {
   "cell_type": "code",
   "execution_count": 23,
   "metadata": {
    "execution": {
     "iopub.execute_input": "2022-01-13T02:03:05.990655Z",
     "iopub.status.busy": "2022-01-13T02:03:05.990163Z",
     "iopub.status.idle": "2022-01-13T02:03:06.001960Z",
     "shell.execute_reply": "2022-01-13T02:03:06.001204Z",
     "shell.execute_reply.started": "2022-01-13T02:03:05.990619Z"
    }
   },
   "outputs": [
    {
     "data": {
      "text/html": [
       "<div>\n",
       "<style scoped>\n",
       "    .dataframe tbody tr th:only-of-type {\n",
       "        vertical-align: middle;\n",
       "    }\n",
       "\n",
       "    .dataframe tbody tr th {\n",
       "        vertical-align: top;\n",
       "    }\n",
       "\n",
       "    .dataframe thead th {\n",
       "        text-align: right;\n",
       "    }\n",
       "</style>\n",
       "<table border=\"1\" class=\"dataframe\">\n",
       "  <thead>\n",
       "    <tr style=\"text-align: right;\">\n",
       "      <th></th>\n",
       "      <th>OriginalTweet</th>\n",
       "      <th>Sentiment</th>\n",
       "      <th>clean_text</th>\n",
       "    </tr>\n",
       "  </thead>\n",
       "  <tbody>\n",
       "    <tr>\n",
       "      <th>0</th>\n",
       "      <td>@MeNyrbie @Phil_Gahan @Chrisitv https://t.co/i...</td>\n",
       "      <td>Neutral</td>\n",
       "      <td>and and</td>\n",
       "    </tr>\n",
       "    <tr>\n",
       "      <th>1</th>\n",
       "      <td>advice Talk to your neighbours family to excha...</td>\n",
       "      <td>Positive</td>\n",
       "      <td>advice talk to your neighbours family to excha...</td>\n",
       "    </tr>\n",
       "    <tr>\n",
       "      <th>2</th>\n",
       "      <td>Coronavirus Australia: Woolworths to give elde...</td>\n",
       "      <td>Positive</td>\n",
       "      <td>coronavirus australia woolworths to give elder...</td>\n",
       "    </tr>\n",
       "    <tr>\n",
       "      <th>3</th>\n",
       "      <td>My food stock is not the only one which is emp...</td>\n",
       "      <td>Positive</td>\n",
       "      <td>my food stock is not the only one which is emp...</td>\n",
       "    </tr>\n",
       "    <tr>\n",
       "      <th>4</th>\n",
       "      <td>Me, ready to go at supermarket during the #COV...</td>\n",
       "      <td>Extremely Negative</td>\n",
       "      <td>me ready to go at supermarket during the covid...</td>\n",
       "    </tr>\n",
       "  </tbody>\n",
       "</table>\n",
       "</div>"
      ],
      "text/plain": [
       "                                       OriginalTweet           Sentiment  \\\n",
       "0  @MeNyrbie @Phil_Gahan @Chrisitv https://t.co/i...             Neutral   \n",
       "1  advice Talk to your neighbours family to excha...            Positive   \n",
       "2  Coronavirus Australia: Woolworths to give elde...            Positive   \n",
       "3  My food stock is not the only one which is emp...            Positive   \n",
       "4  Me, ready to go at supermarket during the #COV...  Extremely Negative   \n",
       "\n",
       "                                          clean_text  \n",
       "0                                            and and  \n",
       "1  advice talk to your neighbours family to excha...  \n",
       "2  coronavirus australia woolworths to give elder...  \n",
       "3  my food stock is not the only one which is emp...  \n",
       "4  me ready to go at supermarket during the covid...  "
      ]
     },
     "execution_count": 23,
     "metadata": {},
     "output_type": "execute_result"
    }
   ],
   "source": [
    "df.head()"
   ]
  },
  {
   "cell_type": "code",
   "execution_count": 24,
   "metadata": {
    "execution": {
     "iopub.execute_input": "2022-01-13T02:03:06.003559Z",
     "iopub.status.busy": "2022-01-13T02:03:06.003118Z",
     "iopub.status.idle": "2022-01-13T02:03:06.105023Z",
     "shell.execute_reply": "2022-01-13T02:03:06.104432Z",
     "shell.execute_reply.started": "2022-01-13T02:03:06.003512Z"
    }
   },
   "outputs": [],
   "source": [
    "#Extracting the text length from tweets\n",
    "text_len=[]\n",
    "for text in df['clean_text']:\n",
    "    x=len(text.split())\n",
    "    text_len.append(x)\n",
    "df['text_len']=text_len"
   ]
  },
  {
   "cell_type": "code",
   "execution_count": 25,
   "metadata": {
    "execution": {
     "iopub.execute_input": "2022-01-13T02:03:06.106585Z",
     "iopub.status.busy": "2022-01-13T02:03:06.106137Z",
     "iopub.status.idle": "2022-01-13T02:03:06.121398Z",
     "shell.execute_reply": "2022-01-13T02:03:06.120713Z",
     "shell.execute_reply.started": "2022-01-13T02:03:06.106536Z"
    }
   },
   "outputs": [],
   "source": [
    "test_text_len=[]\n",
    "for text in df_test['clean_text']:\n",
    "    x=len(text.split())\n",
    "    test_text_len.append(x)\n",
    "df_test['text_len']=test_text_len"
   ]
  },
  {
   "cell_type": "code",
   "execution_count": 26,
   "metadata": {
    "execution": {
     "iopub.execute_input": "2022-01-13T02:03:06.123085Z",
     "iopub.status.busy": "2022-01-13T02:03:06.122763Z",
     "iopub.status.idle": "2022-01-13T02:03:06.272988Z",
     "shell.execute_reply": "2022-01-13T02:03:06.272326Z",
     "shell.execute_reply.started": "2022-01-13T02:03:06.123050Z"
    }
   },
   "outputs": [
    {
     "data": {
      "image/png": "[encoded data removed]",
      "text/plain": [
       "<Figure size 504x360 with 1 Axes>"
      ]
     },
     "metadata": {
      "needs_background": "light"
     },
     "output_type": "display_data"
    }
   ],
   "source": [
    "plt.figure(figsize=(7,5))\n",
    "ax = sns.countplot(x='text_len', data=df[df['text_len']<10], palette='mako')\n",
    "plt.title('Training tweets with less than 10 words')\n",
    "plt.yticks([])\n",
    "ax.bar_label(ax.containers[0])\n",
    "plt.ylabel('count')\n",
    "plt.xlabel('')\n",
    "plt.show()"
   ]
  },
  {
   "cell_type": "code",
   "execution_count": 27,
   "metadata": {
    "execution": {
     "iopub.execute_input": "2022-01-13T02:03:06.274593Z",
     "iopub.status.busy": "2022-01-13T02:03:06.274197Z",
     "iopub.status.idle": "2022-01-13T02:03:06.405699Z",
     "shell.execute_reply": "2022-01-13T02:03:06.404938Z",
     "shell.execute_reply.started": "2022-01-13T02:03:06.274556Z"
    }
   },
   "outputs": [
    {
     "data": {
      "image/png": "[encoded data removed]",
      "text/plain": [
       "<Figure size 504x360 with 1 Axes>"
      ]
     },
     "metadata": {
      "needs_background": "light"
     },
     "output_type": "display_data"
    }
   ],
   "source": [
    "plt.figure(figsize=(7,5))\n",
    "ax = sns.countplot(x='text_len', data=df_test[df_test['text_len']<10], palette='mako')\n",
    "plt.title('Testing tweets with less than 10 words')\n",
    "plt.yticks([])\n",
    "ax.bar_label(ax.containers[0])\n",
    "plt.ylabel('count')\n",
    "plt.xlabel('')\n",
    "plt.show()"
   ]
  },
  {
   "cell_type": "markdown",
   "metadata": {},
   "source": [
    "Afetr the cleaning was peformed some tweets have 0 words that means those tweets were just having hashtags,links etc..So we remove them and for the purpose of modeling we take tweets with have more than 4 words"
   ]
  },
  {
   "cell_type": "code",
   "execution_count": 28,
   "metadata": {
    "execution": {
     "iopub.execute_input": "2022-01-13T02:03:06.411073Z",
     "iopub.status.busy": "2022-01-13T02:03:06.410882Z",
     "iopub.status.idle": "2022-01-13T02:03:06.415789Z",
     "shell.execute_reply": "2022-01-13T02:03:06.414836Z",
     "shell.execute_reply.started": "2022-01-13T02:03:06.411049Z"
    }
   },
   "outputs": [
    {
     "name": "stdout",
     "output_type": "stream",
     "text": [
      "Train shape: (41157, 4)\n",
      "Test shape: (3798, 4)\n"
     ]
    }
   ],
   "source": [
    "print(f\"Train shape: {df.shape}\")\n",
    "print(f\"Test shape: {df_test.shape}\")"
   ]
  },
  {
   "cell_type": "code",
   "execution_count": 29,
   "metadata": {
    "execution": {
     "iopub.execute_input": "2022-01-13T02:03:06.417532Z",
     "iopub.status.busy": "2022-01-13T02:03:06.417080Z",
     "iopub.status.idle": "2022-01-13T02:03:06.431348Z",
     "shell.execute_reply": "2022-01-13T02:03:06.430591Z",
     "shell.execute_reply.started": "2022-01-13T02:03:06.417490Z"
    }
   },
   "outputs": [],
   "source": [
    "df = df[df['text_len'] > 4]\n",
    "df_test = df_test[df_test['text_len'] > 4]"
   ]
  },
  {
   "cell_type": "code",
   "execution_count": 30,
   "metadata": {
    "execution": {
     "iopub.execute_input": "2022-01-13T02:03:06.432435Z",
     "iopub.status.busy": "2022-01-13T02:03:06.432246Z",
     "iopub.status.idle": "2022-01-13T02:03:06.437478Z",
     "shell.execute_reply": "2022-01-13T02:03:06.436454Z",
     "shell.execute_reply.started": "2022-01-13T02:03:06.432412Z"
    }
   },
   "outputs": [
    {
     "name": "stdout",
     "output_type": "stream",
     "text": [
      "Train shape: (40922, 4)\n",
      "Test shape: (3792, 4)\n"
     ]
    }
   ],
   "source": [
    "print(f\"Train shape: {df.shape}\")\n",
    "print(f\"Test shape: {df_test.shape}\")"
   ]
  },
  {
   "cell_type": "markdown",
   "metadata": {},
   "source": [
    "# Tokenizing"
   ]
  },
  {
   "cell_type": "code",
   "execution_count": 31,
   "metadata": {
    "execution": {
     "iopub.execute_input": "2022-01-13T02:03:06.439625Z",
     "iopub.status.busy": "2022-01-13T02:03:06.438702Z",
     "iopub.status.idle": "2022-01-13T02:03:07.832050Z",
     "shell.execute_reply": "2022-01-13T02:03:07.831430Z",
     "shell.execute_reply.started": "2022-01-13T02:03:06.439589Z"
    }
   },
   "outputs": [
    {
     "data": {
      "application/vnd.jupyter.widget-view+json": {
       "model_id": "1b61929319d5488cbabe7829de335e86",
       "version_major": 2,
       "version_minor": 0
      },
      "text/plain": [
       "Downloading:   0%|          | 0.00/226k [00:00<?, ?B/s]"
      ]
     },
     "metadata": {},
     "output_type": "display_data"
    },
    {
     "data": {
      "application/vnd.jupyter.widget-view+json": {
       "model_id": "352e41816c1643b9831ea9e25aec0fa7",
       "version_major": 2,
       "version_minor": 0
      },
      "text/plain": [
       "Downloading:   0%|          | 0.00/455k [00:00<?, ?B/s]"
      ]
     },
     "metadata": {},
     "output_type": "display_data"
    },
    {
     "data": {
      "application/vnd.jupyter.widget-view+json": {
       "model_id": "12cb876836c646f0b38911125b617f8f",
       "version_major": 2,
       "version_minor": 0
      },
      "text/plain": [
       "Downloading:   0%|          | 0.00/28.0 [00:00<?, ?B/s]"
      ]
     },
     "metadata": {},
     "output_type": "display_data"
    },
    {
     "data": {
      "application/vnd.jupyter.widget-view+json": {
       "model_id": "f879cd6677fb477b9589935aab82c3fb",
       "version_major": 2,
       "version_minor": 0
      },
      "text/plain": [
       "Downloading:   0%|          | 0.00/570 [00:00<?, ?B/s]"
      ]
     },
     "metadata": {},
     "output_type": "display_data"
    }
   ],
   "source": [
    "tokenizer=BertTokenizerFast.from_pretrained('bert-base-uncased')"
   ]
  },
  {
   "cell_type": "code",
   "execution_count": 32,
   "metadata": {
    "execution": {
     "iopub.execute_input": "2022-01-13T02:03:07.833582Z",
     "iopub.status.busy": "2022-01-13T02:03:07.833338Z",
     "iopub.status.idle": "2022-01-13T02:03:15.484009Z",
     "shell.execute_reply": "2022-01-13T02:03:15.483242Z",
     "shell.execute_reply.started": "2022-01-13T02:03:07.833539Z"
    }
   },
   "outputs": [],
   "source": [
    "#Creating tokens for the tweets\n",
    "token_lens=[]\n",
    "for txt in df['clean_text'].values:\n",
    "    tokens=tokenizer.encode(txt,max_length=512,truncation=True)\n",
    "    token_lens.append(len(tokens))\n",
    "    \n",
    "max_tok_len=np.max(token_lens)"
   ]
  },
  {
   "cell_type": "code",
   "execution_count": 33,
   "metadata": {
    "execution": {
     "iopub.execute_input": "2022-01-13T02:03:15.485333Z",
     "iopub.status.busy": "2022-01-13T02:03:15.485094Z",
     "iopub.status.idle": "2022-01-13T02:03:15.489890Z",
     "shell.execute_reply": "2022-01-13T02:03:15.489171Z",
     "shell.execute_reply.started": "2022-01-13T02:03:15.485302Z"
    }
   },
   "outputs": [
    {
     "data": {
      "text/plain": [
       "100"
      ]
     },
     "execution_count": 33,
     "metadata": {},
     "output_type": "execute_result"
    }
   ],
   "source": [
    "max_tok_len"
   ]
  },
  {
   "cell_type": "code",
   "execution_count": 34,
   "metadata": {
    "execution": {
     "iopub.execute_input": "2022-01-13T02:03:15.491432Z",
     "iopub.status.busy": "2022-01-13T02:03:15.491018Z",
     "iopub.status.idle": "2022-01-13T02:03:22.884710Z",
     "shell.execute_reply": "2022-01-13T02:03:22.883602Z",
     "shell.execute_reply.started": "2022-01-13T02:03:15.491396Z"
    }
   },
   "outputs": [
    {
     "name": "stdout",
     "output_type": "stream",
     "text": [
      "1621 zsah policie proti spekulantm s roukami na mj popud hejtman steckho kraje ve spoluprci s podle krizovho zkona zajistil tm 700 tisrouek od firmy kter je mla dodat na zdravotnkm ale na posledn chvli se snaila navyovat cenu spolutozvladneme\n",
      "13620 hoy aplaudo a mi segunda familia aplaudoanuestrosheroes aquellos con los que he compartido tantas noches de trabajo y tanta alegras que como siempre dan todo por el bien de su comunidad presidente por ellos tambin cuarentenanacionalyacuidemosalosquecuidan\n",
      "16543 bir mddettir spermarketlerin lojistik hizmeti avusturya ordusu desteiyle yaplyor dn corona tedavisi iin 22 milyon luk bir aratrma gelitirme btesi aklad hkmet geen hafta da 35 milyon luk 2 yardm paketi aklanmt viyanadan haberler bu kadar\n",
      "36941 11 nisan cumartesi itibariyle bbnin tm hizmetleri sokaa kma serbestisi olanlar iin devam edecek halk ekmek ve hamidiye su 100 retime geti bb tm stanbulun gda ihtiyacna yetecek kapasitededir halkmz sakin olsun ve gvende hissetsin ltfen herkes evine dnsn\n"
     ]
    }
   ],
   "source": [
    "token_lens=[]\n",
    "for i,txt in enumerate(df['clean_text'].values):\n",
    "    tokens=tokenizer.encode(txt,max_length=512,truncation=True)\n",
    "    token_lens.append(len(tokens))\n",
    "    if len(tokens)>80:#Checking for snetences with token length greater than 80\n",
    "        print(i,txt)\n",
    "    \n",
    "max_tok_len=np.max(token_lens)"
   ]
  },
  {
   "cell_type": "markdown",
   "metadata": {},
   "source": [
    "##### These sentence are in spanish i guess and definetly not in english so these must be dropped"
   ]
  },
  {
   "cell_type": "code",
   "execution_count": 35,
   "metadata": {
    "execution": {
     "iopub.execute_input": "2022-01-13T02:03:22.891491Z",
     "iopub.status.busy": "2022-01-13T02:03:22.889537Z",
     "iopub.status.idle": "2022-01-13T02:03:22.927131Z",
     "shell.execute_reply": "2022-01-13T02:03:22.926518Z",
     "shell.execute_reply.started": "2022-01-13T02:03:22.891461Z"
    }
   },
   "outputs": [],
   "source": [
    "df['token_len']=token_lens"
   ]
  },
  {
   "cell_type": "code",
   "execution_count": 36,
   "metadata": {
    "execution": {
     "iopub.execute_input": "2022-01-13T02:03:22.933011Z",
     "iopub.status.busy": "2022-01-13T02:03:22.931011Z",
     "iopub.status.idle": "2022-01-13T02:03:22.972635Z",
     "shell.execute_reply": "2022-01-13T02:03:22.971800Z",
     "shell.execute_reply.started": "2022-01-13T02:03:22.932970Z"
    }
   },
   "outputs": [
    {
     "data": {
      "text/html": [
       "<div>\n",
       "<style scoped>\n",
       "    .dataframe tbody tr th:only-of-type {\n",
       "        vertical-align: middle;\n",
       "    }\n",
       "\n",
       "    .dataframe tbody tr th {\n",
       "        vertical-align: top;\n",
       "    }\n",
       "\n",
       "    .dataframe thead th {\n",
       "        text-align: right;\n",
       "    }\n",
       "</style>\n",
       "<table border=\"1\" class=\"dataframe\">\n",
       "  <thead>\n",
       "    <tr style=\"text-align: right;\">\n",
       "      <th></th>\n",
       "      <th>OriginalTweet</th>\n",
       "      <th>Sentiment</th>\n",
       "      <th>clean_text</th>\n",
       "      <th>text_len</th>\n",
       "      <th>token_len</th>\n",
       "    </tr>\n",
       "  </thead>\n",
       "  <tbody>\n",
       "    <tr>\n",
       "      <th>1638</th>\n",
       "      <td>ZÃ¡sah policie proti spekulant?m s rouÂkami. ...</td>\n",
       "      <td>Neutral</td>\n",
       "      <td>zsah policie proti spekulantm s roukami na mj ...</td>\n",
       "      <td>39</td>\n",
       "      <td>100</td>\n",
       "    </tr>\n",
       "    <tr>\n",
       "      <th>37156</th>\n",
       "      <td>11 Nisan Cumartesi itibariyle ?BBÂnin tÃ¼m hi...</td>\n",
       "      <td>Neutral</td>\n",
       "      <td>11 nisan cumartesi itibariyle bbnin tm hizmetl...</td>\n",
       "      <td>39</td>\n",
       "      <td>98</td>\n",
       "    </tr>\n",
       "    <tr>\n",
       "      <th>16632</th>\n",
       "      <td>Bir mÃ¼ddettir sÃ¼permarketlerin lojistik hizm...</td>\n",
       "      <td>Neutral</td>\n",
       "      <td>bir mddettir spermarketlerin lojistik hizmeti ...</td>\n",
       "      <td>36</td>\n",
       "      <td>92</td>\n",
       "    </tr>\n",
       "    <tr>\n",
       "      <th>13691</th>\n",
       "      <td>Hoy aplaudo a mi segunda familia #AplaudoANues...</td>\n",
       "      <td>Neutral</td>\n",
       "      <td>hoy aplaudo a mi segunda familia aplaudoanuest...</td>\n",
       "      <td>36</td>\n",
       "      <td>84</td>\n",
       "    </tr>\n",
       "    <tr>\n",
       "      <th>14593</th>\n",
       "      <td>Na, wer war denn da am Werk? Gestern Nachmitta...</td>\n",
       "      <td>Extremely Negative</td>\n",
       "      <td>na wer war denn da am werk gestern nachmittag ...</td>\n",
       "      <td>36</td>\n",
       "      <td>80</td>\n",
       "    </tr>\n",
       "    <tr>\n",
       "      <th>28899</th>\n",
       "      <td>Kindly contact Us bamy global merchandise for ...</td>\n",
       "      <td>Positive</td>\n",
       "      <td>kindly contact us bamy global merchandise for ...</td>\n",
       "      <td>37</td>\n",
       "      <td>80</td>\n",
       "    </tr>\n",
       "    <tr>\n",
       "      <th>27005</th>\n",
       "      <td>Supermercados Econo confirman que un empleado ...</td>\n",
       "      <td>Neutral</td>\n",
       "      <td>supermercados econo confirman que un empleado ...</td>\n",
       "      <td>39</td>\n",
       "      <td>80</td>\n",
       "    </tr>\n",
       "    <tr>\n",
       "      <th>18913</th>\n",
       "      <td>#CroozefmNews \\r\\r\\nPresident Museveni has ord...</td>\n",
       "      <td>Extremely Negative</td>\n",
       "      <td>croozefmnews president museveni has ordered th...</td>\n",
       "      <td>33</td>\n",
       "      <td>80</td>\n",
       "    </tr>\n",
       "    <tr>\n",
       "      <th>4844</th>\n",
       "      <td>Impct of #coronavirus i hve sen hw civilizd pp...</td>\n",
       "      <td>Extremely Negative</td>\n",
       "      <td>impct of coronavirus i hve sen hw civilizd ppl...</td>\n",
       "      <td>47</td>\n",
       "      <td>79</td>\n",
       "    </tr>\n",
       "    <tr>\n",
       "      <th>11213</th>\n",
       "      <td>Keine WertgegenstÃ¤nde im Fahrzeug lassen! - D...</td>\n",
       "      <td>Negative</td>\n",
       "      <td>keine wertgegenstnde im fahrzeug lassen diesen...</td>\n",
       "      <td>33</td>\n",
       "      <td>79</td>\n",
       "    </tr>\n",
       "    <tr>\n",
       "      <th>8730</th>\n",
       "      <td>?Bitte anschauen! (1/2)\\r\\r\\n\\r\\r\\nEmotionaler...</td>\n",
       "      <td>Negative</td>\n",
       "      <td>bitte anschauen 12emotionaler aufruf von gehar...</td>\n",
       "      <td>35</td>\n",
       "      <td>79</td>\n",
       "    </tr>\n",
       "    <tr>\n",
       "      <th>40778</th>\n",
       "      <td>#Covid_19 2days Stay-at-home activities\\r\\r\\nU...</td>\n",
       "      <td>Neutral</td>\n",
       "      <td>covid19 2days stayathome activitiesup 630am fe...</td>\n",
       "      <td>31</td>\n",
       "      <td>78</td>\n",
       "    </tr>\n",
       "    <tr>\n",
       "      <th>26678</th>\n",
       "      <td>Eine wahre #CoronaGeschichte:\\r\\r\\n\\r\\r\\nWenn ...</td>\n",
       "      <td>Neutral</td>\n",
       "      <td>eine wahre coronageschichtewenn dir an der sup...</td>\n",
       "      <td>28</td>\n",
       "      <td>78</td>\n",
       "    </tr>\n",
       "    <tr>\n",
       "      <th>12389</th>\n",
       "      <td>Okay, so I just checked the drug prices for #P...</td>\n",
       "      <td>Positive</td>\n",
       "      <td>okay so i just checked the drug prices for pla...</td>\n",
       "      <td>35</td>\n",
       "      <td>77</td>\n",
       "    </tr>\n",
       "    <tr>\n",
       "      <th>14582</th>\n",
       "      <td>hiked prices in the face of the Covid-19 crise...</td>\n",
       "      <td>Negative</td>\n",
       "      <td>hiked prices in the face of the covid19 crises...</td>\n",
       "      <td>42</td>\n",
       "      <td>77</td>\n",
       "    </tr>\n",
       "    <tr>\n",
       "      <th>36305</th>\n",
       "      <td>Sterile disposable anti bacterial wet wipes an...</td>\n",
       "      <td>Negative</td>\n",
       "      <td>sterile disposable anti bacterial wet wipes an...</td>\n",
       "      <td>31</td>\n",
       "      <td>76</td>\n",
       "    </tr>\n",
       "    <tr>\n",
       "      <th>1697</th>\n",
       "      <td>I work at a grocery store.\\r\\r\\nWe wont get an...</td>\n",
       "      <td>Positive</td>\n",
       "      <td>i work at a grocery storewe wont get any toile...</td>\n",
       "      <td>34</td>\n",
       "      <td>76</td>\n",
       "    </tr>\n",
       "    <tr>\n",
       "      <th>30206</th>\n",
       "      <td>#LDA City Lahore Residential Files Prices Upda...</td>\n",
       "      <td>Neutral</td>\n",
       "      <td>lda city lahore residential files prices updat...</td>\n",
       "      <td>34</td>\n",
       "      <td>76</td>\n",
       "    </tr>\n",
       "    <tr>\n",
       "      <th>9238</th>\n",
       "      <td>Hi @Zomato I felt hungry loggd in ur app tryd ...</td>\n",
       "      <td>Extremely Positive</td>\n",
       "      <td>hi i felt hungry loggd in ur app tryd to add 4...</td>\n",
       "      <td>55</td>\n",
       "      <td>75</td>\n",
       "    </tr>\n",
       "    <tr>\n",
       "      <th>40330</th>\n",
       "      <td>Grap some for your family and keep in safe, #h...</td>\n",
       "      <td>Positive</td>\n",
       "      <td>grap some for your family and keep in safe han...</td>\n",
       "      <td>30</td>\n",
       "      <td>75</td>\n",
       "    </tr>\n",
       "    <tr>\n",
       "      <th>36306</th>\n",
       "      <td>For sell Sterile disposable anti bacterial wet...</td>\n",
       "      <td>Negative</td>\n",
       "      <td>for sell sterile disposable anti bacterial wet...</td>\n",
       "      <td>32</td>\n",
       "      <td>75</td>\n",
       "    </tr>\n",
       "    <tr>\n",
       "      <th>34288</th>\n",
       "      <td>$BRZL Scepter Holdings, Inc., Developing Hand ...</td>\n",
       "      <td>Positive</td>\n",
       "      <td>brzl scepter holdings inc developing hand sani...</td>\n",
       "      <td>35</td>\n",
       "      <td>74</td>\n",
       "    </tr>\n",
       "    <tr>\n",
       "      <th>10514</th>\n",
       "      <td>the new play Cannabis sales and prices are sky...</td>\n",
       "      <td>Positive</td>\n",
       "      <td>the new play cannabis sales and prices are sky...</td>\n",
       "      <td>41</td>\n",
       "      <td>73</td>\n",
       "    </tr>\n",
       "    <tr>\n",
       "      <th>23019</th>\n",
       "      <td>4 arrested in Koboko (northern #Uganda) for hi...</td>\n",
       "      <td>Negative</td>\n",
       "      <td>4 arrested in koboko northern uganda for hikin...</td>\n",
       "      <td>50</td>\n",
       "      <td>73</td>\n",
       "    </tr>\n",
       "    <tr>\n",
       "      <th>28935</th>\n",
       "      <td>hey guys thanks to the covid -19 quarantine th...</td>\n",
       "      <td>Positive</td>\n",
       "      <td>hey guys thanks to the covid 19 quarantine the...</td>\n",
       "      <td>46</td>\n",
       "      <td>73</td>\n",
       "    </tr>\n",
       "    <tr>\n",
       "      <th>31936</th>\n",
       "      <td>Kindly contact Us bamy global merchandise for ...</td>\n",
       "      <td>Positive</td>\n",
       "      <td>kindly contact us bamy global merchandise for ...</td>\n",
       "      <td>38</td>\n",
       "      <td>73</td>\n",
       "    </tr>\n",
       "    <tr>\n",
       "      <th>31289</th>\n",
       "      <td>Still not the easiest to find tp\\r\\r\\n\\r\\r\\n#s...</td>\n",
       "      <td>Negative</td>\n",
       "      <td>still not the easiest to find tpsterlingjackso...</td>\n",
       "      <td>25</td>\n",
       "      <td>73</td>\n",
       "    </tr>\n",
       "    <tr>\n",
       "      <th>16537</th>\n",
       "      <td>Tell dem #ChrisTucker its plain 2c some of yal...</td>\n",
       "      <td>Extremely Positive</td>\n",
       "      <td>tell dem christucker its plain 2c some of yall...</td>\n",
       "      <td>52</td>\n",
       "      <td>72</td>\n",
       "    </tr>\n",
       "    <tr>\n",
       "      <th>34867</th>\n",
       "      <td>When you're out of toilet paper and need to bu...</td>\n",
       "      <td>Positive</td>\n",
       "      <td>when youre out of toilet paper and need to buy...</td>\n",
       "      <td>39</td>\n",
       "      <td>72</td>\n",
       "    </tr>\n",
       "    <tr>\n",
       "      <th>22164</th>\n",
       "      <td>Wishing you lots of love on the Happy occasion...</td>\n",
       "      <td>Extremely Positive</td>\n",
       "      <td>wishing you lots of love on the happy occasion...</td>\n",
       "      <td>36</td>\n",
       "      <td>72</td>\n",
       "    </tr>\n",
       "  </tbody>\n",
       "</table>\n",
       "</div>"
      ],
      "text/plain": [
       "                                           OriginalTweet           Sentiment  \\\n",
       "1638   ZÃ¡sah policie proti spekulant?m s rouÂkami. ...             Neutral   \n",
       "37156  11 Nisan Cumartesi itibariyle ?BBÂnin tÃ¼m hi...             Neutral   \n",
       "16632  Bir mÃ¼ddettir sÃ¼permarketlerin lojistik hizm...             Neutral   \n",
       "13691  Hoy aplaudo a mi segunda familia #AplaudoANues...             Neutral   \n",
       "14593  Na, wer war denn da am Werk? Gestern Nachmitta...  Extremely Negative   \n",
       "28899  Kindly contact Us bamy global merchandise for ...            Positive   \n",
       "27005  Supermercados Econo confirman que un empleado ...             Neutral   \n",
       "18913  #CroozefmNews \\r\\r\\nPresident Museveni has ord...  Extremely Negative   \n",
       "4844   Impct of #coronavirus i hve sen hw civilizd pp...  Extremely Negative   \n",
       "11213  Keine WertgegenstÃ¤nde im Fahrzeug lassen! - D...            Negative   \n",
       "8730   ?Bitte anschauen! (1/2)\\r\\r\\n\\r\\r\\nEmotionaler...            Negative   \n",
       "40778  #Covid_19 2days Stay-at-home activities\\r\\r\\nU...             Neutral   \n",
       "26678  Eine wahre #CoronaGeschichte:\\r\\r\\n\\r\\r\\nWenn ...             Neutral   \n",
       "12389  Okay, so I just checked the drug prices for #P...            Positive   \n",
       "14582  hiked prices in the face of the Covid-19 crise...            Negative   \n",
       "36305  Sterile disposable anti bacterial wet wipes an...            Negative   \n",
       "1697   I work at a grocery store.\\r\\r\\nWe wont get an...            Positive   \n",
       "30206  #LDA City Lahore Residential Files Prices Upda...             Neutral   \n",
       "9238   Hi @Zomato I felt hungry loggd in ur app tryd ...  Extremely Positive   \n",
       "40330  Grap some for your family and keep in safe, #h...            Positive   \n",
       "36306  For sell Sterile disposable anti bacterial wet...            Negative   \n",
       "34288  $BRZL Scepter Holdings, Inc., Developing Hand ...            Positive   \n",
       "10514  the new play Cannabis sales and prices are sky...            Positive   \n",
       "23019  4 arrested in Koboko (northern #Uganda) for hi...            Negative   \n",
       "28935  hey guys thanks to the covid -19 quarantine th...            Positive   \n",
       "31936  Kindly contact Us bamy global merchandise for ...            Positive   \n",
       "31289  Still not the easiest to find tp\\r\\r\\n\\r\\r\\n#s...            Negative   \n",
       "16537  Tell dem #ChrisTucker its plain 2c some of yal...  Extremely Positive   \n",
       "34867  When you're out of toilet paper and need to bu...            Positive   \n",
       "22164  Wishing you lots of love on the Happy occasion...  Extremely Positive   \n",
       "\n",
       "                                              clean_text  text_len  token_len  \n",
       "1638   zsah policie proti spekulantm s roukami na mj ...        39        100  \n",
       "37156  11 nisan cumartesi itibariyle bbnin tm hizmetl...        39         98  \n",
       "16632  bir mddettir spermarketlerin lojistik hizmeti ...        36         92  \n",
       "13691  hoy aplaudo a mi segunda familia aplaudoanuest...        36         84  \n",
       "14593  na wer war denn da am werk gestern nachmittag ...        36         80  \n",
       "28899  kindly contact us bamy global merchandise for ...        37         80  \n",
       "27005  supermercados econo confirman que un empleado ...        39         80  \n",
       "18913  croozefmnews president museveni has ordered th...        33         80  \n",
       "4844   impct of coronavirus i hve sen hw civilizd ppl...        47         79  \n",
       "11213  keine wertgegenstnde im fahrzeug lassen diesen...        33         79  \n",
       "8730   bitte anschauen 12emotionaler aufruf von gehar...        35         79  \n",
       "40778  covid19 2days stayathome activitiesup 630am fe...        31         78  \n",
       "26678  eine wahre coronageschichtewenn dir an der sup...        28         78  \n",
       "12389  okay so i just checked the drug prices for pla...        35         77  \n",
       "14582  hiked prices in the face of the covid19 crises...        42         77  \n",
       "36305  sterile disposable anti bacterial wet wipes an...        31         76  \n",
       "1697   i work at a grocery storewe wont get any toile...        34         76  \n",
       "30206  lda city lahore residential files prices updat...        34         76  \n",
       "9238   hi i felt hungry loggd in ur app tryd to add 4...        55         75  \n",
       "40330  grap some for your family and keep in safe han...        30         75  \n",
       "36306  for sell sterile disposable anti bacterial wet...        32         75  \n",
       "34288  brzl scepter holdings inc developing hand sani...        35         74  \n",
       "10514  the new play cannabis sales and prices are sky...        41         73  \n",
       "23019  4 arrested in koboko northern uganda for hikin...        50         73  \n",
       "28935  hey guys thanks to the covid 19 quarantine the...        46         73  \n",
       "31936  kindly contact us bamy global merchandise for ...        38         73  \n",
       "31289  still not the easiest to find tpsterlingjackso...        25         73  \n",
       "16537  tell dem christucker its plain 2c some of yall...        52         72  \n",
       "34867  when youre out of toilet paper and need to buy...        39         72  \n",
       "22164  wishing you lots of love on the happy occasion...        36         72  "
      ]
     },
     "execution_count": 36,
     "metadata": {},
     "output_type": "execute_result"
    }
   ],
   "source": [
    "df.sort_values(by='token_len',ascending=False,inplace=True)\n",
    "df.head(30)"
   ]
  },
  {
   "cell_type": "code",
   "execution_count": 37,
   "metadata": {
    "execution": {
     "iopub.execute_input": "2022-01-13T02:03:22.974092Z",
     "iopub.status.busy": "2022-01-13T02:03:22.973863Z",
     "iopub.status.idle": "2022-01-13T02:03:22.978390Z",
     "shell.execute_reply": "2022-01-13T02:03:22.977775Z",
     "shell.execute_reply.started": "2022-01-13T02:03:22.974060Z"
    }
   },
   "outputs": [],
   "source": [
    "df=df.iloc[12:]#removing the top Non-English language tweets"
   ]
  },
  {
   "cell_type": "code",
   "execution_count": 38,
   "metadata": {
    "execution": {
     "iopub.execute_input": "2022-01-13T02:03:22.980139Z",
     "iopub.status.busy": "2022-01-13T02:03:22.979514Z",
     "iopub.status.idle": "2022-01-13T02:03:23.000583Z",
     "shell.execute_reply": "2022-01-13T02:03:22.999854Z",
     "shell.execute_reply.started": "2022-01-13T02:03:22.980103Z"
    }
   },
   "outputs": [
    {
     "data": {
      "text/html": [
       "<div>\n",
       "<style scoped>\n",
       "    .dataframe tbody tr th:only-of-type {\n",
       "        vertical-align: middle;\n",
       "    }\n",
       "\n",
       "    .dataframe tbody tr th {\n",
       "        vertical-align: top;\n",
       "    }\n",
       "\n",
       "    .dataframe thead th {\n",
       "        text-align: right;\n",
       "    }\n",
       "</style>\n",
       "<table border=\"1\" class=\"dataframe\">\n",
       "  <thead>\n",
       "    <tr style=\"text-align: right;\">\n",
       "      <th></th>\n",
       "      <th>OriginalTweet</th>\n",
       "      <th>Sentiment</th>\n",
       "      <th>clean_text</th>\n",
       "      <th>text_len</th>\n",
       "      <th>token_len</th>\n",
       "    </tr>\n",
       "  </thead>\n",
       "  <tbody>\n",
       "    <tr>\n",
       "      <th>26678</th>\n",
       "      <td>Eine wahre #CoronaGeschichte:\\r\\r\\n\\r\\r\\nWenn ...</td>\n",
       "      <td>Neutral</td>\n",
       "      <td>eine wahre coronageschichtewenn dir an der sup...</td>\n",
       "      <td>28</td>\n",
       "      <td>78</td>\n",
       "    </tr>\n",
       "    <tr>\n",
       "      <th>12389</th>\n",
       "      <td>Okay, so I just checked the drug prices for #P...</td>\n",
       "      <td>Positive</td>\n",
       "      <td>okay so i just checked the drug prices for pla...</td>\n",
       "      <td>35</td>\n",
       "      <td>77</td>\n",
       "    </tr>\n",
       "    <tr>\n",
       "      <th>14582</th>\n",
       "      <td>hiked prices in the face of the Covid-19 crise...</td>\n",
       "      <td>Negative</td>\n",
       "      <td>hiked prices in the face of the covid19 crises...</td>\n",
       "      <td>42</td>\n",
       "      <td>77</td>\n",
       "    </tr>\n",
       "    <tr>\n",
       "      <th>36305</th>\n",
       "      <td>Sterile disposable anti bacterial wet wipes an...</td>\n",
       "      <td>Negative</td>\n",
       "      <td>sterile disposable anti bacterial wet wipes an...</td>\n",
       "      <td>31</td>\n",
       "      <td>76</td>\n",
       "    </tr>\n",
       "    <tr>\n",
       "      <th>1697</th>\n",
       "      <td>I work at a grocery store.\\r\\r\\nWe wont get an...</td>\n",
       "      <td>Positive</td>\n",
       "      <td>i work at a grocery storewe wont get any toile...</td>\n",
       "      <td>34</td>\n",
       "      <td>76</td>\n",
       "    </tr>\n",
       "  </tbody>\n",
       "</table>\n",
       "</div>"
      ],
      "text/plain": [
       "                                           OriginalTweet Sentiment  \\\n",
       "26678  Eine wahre #CoronaGeschichte:\\r\\r\\n\\r\\r\\nWenn ...   Neutral   \n",
       "12389  Okay, so I just checked the drug prices for #P...  Positive   \n",
       "14582  hiked prices in the face of the Covid-19 crise...  Negative   \n",
       "36305  Sterile disposable anti bacterial wet wipes an...  Negative   \n",
       "1697   I work at a grocery store.\\r\\r\\nWe wont get an...  Positive   \n",
       "\n",
       "                                              clean_text  text_len  token_len  \n",
       "26678  eine wahre coronageschichtewenn dir an der sup...        28         78  \n",
       "12389  okay so i just checked the drug prices for pla...        35         77  \n",
       "14582  hiked prices in the face of the covid19 crises...        42         77  \n",
       "36305  sterile disposable anti bacterial wet wipes an...        31         76  \n",
       "1697   i work at a grocery storewe wont get any toile...        34         76  "
      ]
     },
     "execution_count": 38,
     "metadata": {},
     "output_type": "execute_result"
    }
   ],
   "source": [
    "df.head()"
   ]
  },
  {
   "cell_type": "code",
   "execution_count": 39,
   "metadata": {
    "execution": {
     "iopub.execute_input": "2022-01-13T02:03:23.006756Z",
     "iopub.status.busy": "2022-01-13T02:03:23.004765Z",
     "iopub.status.idle": "2022-01-13T02:03:23.027415Z",
     "shell.execute_reply": "2022-01-13T02:03:23.026662Z",
     "shell.execute_reply.started": "2022-01-13T02:03:23.006687Z"
    }
   },
   "outputs": [],
   "source": [
    "df=df.sample(frac=1).reset_index(drop=True)#Shuffling the dataframe"
   ]
  },
  {
   "cell_type": "code",
   "execution_count": 40,
   "metadata": {
    "execution": {
     "iopub.execute_input": "2022-01-13T02:03:23.031776Z",
     "iopub.status.busy": "2022-01-13T02:03:23.031208Z",
     "iopub.status.idle": "2022-01-13T02:03:23.920375Z",
     "shell.execute_reply": "2022-01-13T02:03:23.919576Z",
     "shell.execute_reply.started": "2022-01-13T02:03:23.031730Z"
    }
   },
   "outputs": [],
   "source": [
    "token_len_test = []\n",
    "\n",
    "for txt in df_test['clean_text'].values:\n",
    "    tokens = tokenizer.encode(txt, max_length=512, truncation=True)\n",
    "    token_len_test.append(len(tokens))\n",
    "    \n",
    "max_len=np.max(token_len_test)"
   ]
  },
  {
   "cell_type": "code",
   "execution_count": 41,
   "metadata": {
    "execution": {
     "iopub.execute_input": "2022-01-13T02:03:23.922093Z",
     "iopub.status.busy": "2022-01-13T02:03:23.921832Z",
     "iopub.status.idle": "2022-01-13T02:03:23.928913Z",
     "shell.execute_reply": "2022-01-13T02:03:23.928075Z",
     "shell.execute_reply.started": "2022-01-13T02:03:23.922056Z"
    }
   },
   "outputs": [
    {
     "data": {
      "text/plain": [
       "97"
      ]
     },
     "execution_count": 41,
     "metadata": {},
     "output_type": "execute_result"
    }
   ],
   "source": [
    "max_len"
   ]
  },
  {
   "cell_type": "code",
   "execution_count": 42,
   "metadata": {
    "execution": {
     "iopub.execute_input": "2022-01-13T02:03:23.931041Z",
     "iopub.status.busy": "2022-01-13T02:03:23.930123Z",
     "iopub.status.idle": "2022-01-13T02:03:24.659935Z",
     "shell.execute_reply": "2022-01-13T02:03:24.659228Z",
     "shell.execute_reply.started": "2022-01-13T02:03:23.931005Z"
    }
   },
   "outputs": [
    {
     "name": "stdout",
     "output_type": "stream",
     "text": [
      "286 so hard to decide as much as i want to hodl my 2 ccdcv4 token our place is declared to lock down due to covid19 i will use this to buy some food to stocktxnid093bd1db0c0d3a62af15883138a5f57d4cef35ae14e31e602b74489dd2524c7fmy b\n",
      "345 informoval jsem zstupce vech obchodnch etzc o aktulnch opatench vldy etzce jsou zsobovny na 95 take nen dvod panikait zsoby potravin fakt nedojdou nen opravdu dvod dnes obsadit a vykoupit supermarkety\n",
      "2380 ahora seguid llorando por el papel higinico que no he comprado porque an tengo seguid creando histeria y preocupacin poniendo fotos de gente en pnico y estanteras vacas que yo seguir yendo a comercios responsables de barrio donde nos cuidan hoy y siempre gracias\n"
     ]
    }
   ],
   "source": [
    "token_len_test = []\n",
    "\n",
    "for i,txt in enumerate(df_test['clean_text'].values):\n",
    "    tokens = tokenizer.encode(txt, max_length=512, truncation=True)\n",
    "    token_len_test.append(len(tokens))\n",
    "    if len(tokens)>80:\n",
    "        print(i,txt)"
   ]
  },
  {
   "cell_type": "code",
   "execution_count": 43,
   "metadata": {
    "execution": {
     "iopub.execute_input": "2022-01-13T02:03:24.661382Z",
     "iopub.status.busy": "2022-01-13T02:03:24.661049Z",
     "iopub.status.idle": "2022-01-13T02:03:24.668094Z",
     "shell.execute_reply": "2022-01-13T02:03:24.667450Z",
     "shell.execute_reply.started": "2022-01-13T02:03:24.661344Z"
    }
   },
   "outputs": [],
   "source": [
    "df_test['token_len']=token_len_test"
   ]
  },
  {
   "cell_type": "code",
   "execution_count": 44,
   "metadata": {
    "execution": {
     "iopub.execute_input": "2022-01-13T02:03:24.670023Z",
     "iopub.status.busy": "2022-01-13T02:03:24.669539Z",
     "iopub.status.idle": "2022-01-13T02:03:24.687109Z",
     "shell.execute_reply": "2022-01-13T02:03:24.686407Z",
     "shell.execute_reply.started": "2022-01-13T02:03:24.669987Z"
    }
   },
   "outputs": [
    {
     "data": {
      "text/html": [
       "<div>\n",
       "<style scoped>\n",
       "    .dataframe tbody tr th:only-of-type {\n",
       "        vertical-align: middle;\n",
       "    }\n",
       "\n",
       "    .dataframe tbody tr th {\n",
       "        vertical-align: top;\n",
       "    }\n",
       "\n",
       "    .dataframe thead th {\n",
       "        text-align: right;\n",
       "    }\n",
       "</style>\n",
       "<table border=\"1\" class=\"dataframe\">\n",
       "  <thead>\n",
       "    <tr style=\"text-align: right;\">\n",
       "      <th></th>\n",
       "      <th>OriginalTweet</th>\n",
       "      <th>Sentiment</th>\n",
       "      <th>clean_text</th>\n",
       "      <th>text_len</th>\n",
       "      <th>token_len</th>\n",
       "    </tr>\n",
       "  </thead>\n",
       "  <tbody>\n",
       "    <tr>\n",
       "      <th>286</th>\n",
       "      <td>@Rhett800cc So hard to decide??. As much as I ...</td>\n",
       "      <td>Negative</td>\n",
       "      <td>so hard to decide as much as i want to hodl my...</td>\n",
       "      <td>36</td>\n",
       "      <td>97</td>\n",
       "    </tr>\n",
       "    <tr>\n",
       "      <th>2383</th>\n",
       "      <td>Ahora seguid llorando por el papel higiénico (...</td>\n",
       "      <td>Negative</td>\n",
       "      <td>ahora seguid llorando por el papel higinico qu...</td>\n",
       "      <td>44</td>\n",
       "      <td>94</td>\n",
       "    </tr>\n",
       "    <tr>\n",
       "      <th>345</th>\n",
       "      <td>Informoval jsem zástupce vech obchodních ?et?...</td>\n",
       "      <td>Neutral</td>\n",
       "      <td>informoval jsem zstupce vech obchodnch etzc o ...</td>\n",
       "      <td>31</td>\n",
       "      <td>86</td>\n",
       "    </tr>\n",
       "    <tr>\n",
       "      <th>1485</th>\n",
       "      <td>DTF-Dont Touch Face\\r\\r\\nDWBH-Do Wash Both Ha...</td>\n",
       "      <td>Extremely Negative</td>\n",
       "      <td>dtfdont touch facedwbhdo wash both handsgtfohg...</td>\n",
       "      <td>32</td>\n",
       "      <td>77</td>\n",
       "    </tr>\n",
       "    <tr>\n",
       "      <th>1209</th>\n",
       "      <td>Im in the DC/Maryland/Virginia (DMV) area &amp;am...</td>\n",
       "      <td>Positive</td>\n",
       "      <td>im in the dcmarylandvirginia dmv area amphave ...</td>\n",
       "      <td>40</td>\n",
       "      <td>75</td>\n",
       "    </tr>\n",
       "    <tr>\n",
       "      <th>3505</th>\n",
       "      <td>Stop misusing ur privilege amp grow up Some1 c...</td>\n",
       "      <td>Positive</td>\n",
       "      <td>stop misusing ur privilege amp grow up some1 c...</td>\n",
       "      <td>57</td>\n",
       "      <td>73</td>\n",
       "    </tr>\n",
       "    <tr>\n",
       "      <th>1789</th>\n",
       "      <td>For those that are cashlong, patient,calm&amp;amp;...</td>\n",
       "      <td>Extremely Positive</td>\n",
       "      <td>for those that are cashlong patientcalmamphave...</td>\n",
       "      <td>44</td>\n",
       "      <td>71</td>\n",
       "    </tr>\n",
       "    <tr>\n",
       "      <th>2177</th>\n",
       "      <td>Yo mama so nasty COVID won't take her\\r\\r\\nYo ...</td>\n",
       "      <td>Extremely Negative</td>\n",
       "      <td>yo mama so nasty covid wont take heryo mama so...</td>\n",
       "      <td>48</td>\n",
       "      <td>70</td>\n",
       "    </tr>\n",
       "    <tr>\n",
       "      <th>2997</th>\n",
       "      <td>Stop #frenzybuying. You don't need most of wha...</td>\n",
       "      <td>Extremely Negative</td>\n",
       "      <td>stop frenzybuying you dont need most of what y...</td>\n",
       "      <td>38</td>\n",
       "      <td>70</td>\n",
       "    </tr>\n",
       "    <tr>\n",
       "      <th>855</th>\n",
       "      <td>Lidl is total chaos, queues as long as the ais...</td>\n",
       "      <td>Extremely Negative</td>\n",
       "      <td>lidl is total chaos queues as long as the aisl...</td>\n",
       "      <td>62</td>\n",
       "      <td>70</td>\n",
       "    </tr>\n",
       "  </tbody>\n",
       "</table>\n",
       "</div>"
      ],
      "text/plain": [
       "                                          OriginalTweet           Sentiment  \\\n",
       "286   @Rhett800cc So hard to decide??. As much as I ...            Negative   \n",
       "2383  Ahora seguid llorando por el papel higiénico (...            Negative   \n",
       "345   Informoval jsem zástupce vech obchodních ?et?...             Neutral   \n",
       "1485  DTF-Dont Touch Face\\r\\r\\nDWBH-Do Wash Both Ha...  Extremely Negative   \n",
       "1209  Im in the DC/Maryland/Virginia (DMV) area &am...            Positive   \n",
       "3505  Stop misusing ur privilege amp grow up Some1 c...            Positive   \n",
       "1789  For those that are cashlong, patient,calm&amp;...  Extremely Positive   \n",
       "2177  Yo mama so nasty COVID won't take her\\r\\r\\nYo ...  Extremely Negative   \n",
       "2997  Stop #frenzybuying. You don't need most of wha...  Extremely Negative   \n",
       "855   Lidl is total chaos, queues as long as the ais...  Extremely Negative   \n",
       "\n",
       "                                             clean_text  text_len  token_len  \n",
       "286   so hard to decide as much as i want to hodl my...        36         97  \n",
       "2383  ahora seguid llorando por el papel higinico qu...        44         94  \n",
       "345   informoval jsem zstupce vech obchodnch etzc o ...        31         86  \n",
       "1485  dtfdont touch facedwbhdo wash both handsgtfohg...        32         77  \n",
       "1209  im in the dcmarylandvirginia dmv area amphave ...        40         75  \n",
       "3505  stop misusing ur privilege amp grow up some1 c...        57         73  \n",
       "1789  for those that are cashlong patientcalmamphave...        44         71  \n",
       "2177  yo mama so nasty covid wont take heryo mama so...        48         70  \n",
       "2997  stop frenzybuying you dont need most of what y...        38         70  \n",
       "855   lidl is total chaos queues as long as the aisl...        62         70  "
      ]
     },
     "execution_count": 44,
     "metadata": {},
     "output_type": "execute_result"
    }
   ],
   "source": [
    "df_test.sort_values(by='token_len',inplace=True,ascending=False)\n",
    "df_test.head(10)"
   ]
  },
  {
   "cell_type": "code",
   "execution_count": 45,
   "metadata": {
    "execution": {
     "iopub.execute_input": "2022-01-13T02:03:24.688497Z",
     "iopub.status.busy": "2022-01-13T02:03:24.688268Z",
     "iopub.status.idle": "2022-01-13T02:03:24.698418Z",
     "shell.execute_reply": "2022-01-13T02:03:24.697562Z",
     "shell.execute_reply.started": "2022-01-13T02:03:24.688466Z"
    }
   },
   "outputs": [
    {
     "data": {
      "text/html": [
       "<div>\n",
       "<style scoped>\n",
       "    .dataframe tbody tr th:only-of-type {\n",
       "        vertical-align: middle;\n",
       "    }\n",
       "\n",
       "    .dataframe tbody tr th {\n",
       "        vertical-align: top;\n",
       "    }\n",
       "\n",
       "    .dataframe thead th {\n",
       "        text-align: right;\n",
       "    }\n",
       "</style>\n",
       "<table border=\"1\" class=\"dataframe\">\n",
       "  <thead>\n",
       "    <tr style=\"text-align: right;\">\n",
       "      <th></th>\n",
       "      <th>OriginalTweet</th>\n",
       "      <th>Sentiment</th>\n",
       "      <th>clean_text</th>\n",
       "      <th>text_len</th>\n",
       "      <th>token_len</th>\n",
       "    </tr>\n",
       "  </thead>\n",
       "  <tbody>\n",
       "    <tr>\n",
       "      <th>3505</th>\n",
       "      <td>Stop misusing ur privilege amp grow up Some1 c...</td>\n",
       "      <td>Positive</td>\n",
       "      <td>stop misusing ur privilege amp grow up some1 c...</td>\n",
       "      <td>57</td>\n",
       "      <td>73</td>\n",
       "    </tr>\n",
       "    <tr>\n",
       "      <th>1789</th>\n",
       "      <td>For those that are cashlong, patient,calm&amp;amp;...</td>\n",
       "      <td>Extremely Positive</td>\n",
       "      <td>for those that are cashlong patientcalmamphave...</td>\n",
       "      <td>44</td>\n",
       "      <td>71</td>\n",
       "    </tr>\n",
       "    <tr>\n",
       "      <th>2177</th>\n",
       "      <td>Yo mama so nasty COVID won't take her\\r\\r\\nYo ...</td>\n",
       "      <td>Extremely Negative</td>\n",
       "      <td>yo mama so nasty covid wont take heryo mama so...</td>\n",
       "      <td>48</td>\n",
       "      <td>70</td>\n",
       "    </tr>\n",
       "    <tr>\n",
       "      <th>2997</th>\n",
       "      <td>Stop #frenzybuying. You don't need most of wha...</td>\n",
       "      <td>Extremely Negative</td>\n",
       "      <td>stop frenzybuying you dont need most of what y...</td>\n",
       "      <td>38</td>\n",
       "      <td>70</td>\n",
       "    </tr>\n",
       "    <tr>\n",
       "      <th>855</th>\n",
       "      <td>Lidl is total chaos, queues as long as the ais...</td>\n",
       "      <td>Extremely Negative</td>\n",
       "      <td>lidl is total chaos queues as long as the aisl...</td>\n",
       "      <td>62</td>\n",
       "      <td>70</td>\n",
       "    </tr>\n",
       "  </tbody>\n",
       "</table>\n",
       "</div>"
      ],
      "text/plain": [
       "                                          OriginalTweet           Sentiment  \\\n",
       "3505  Stop misusing ur privilege amp grow up Some1 c...            Positive   \n",
       "1789  For those that are cashlong, patient,calm&amp;...  Extremely Positive   \n",
       "2177  Yo mama so nasty COVID won't take her\\r\\r\\nYo ...  Extremely Negative   \n",
       "2997  Stop #frenzybuying. You don't need most of wha...  Extremely Negative   \n",
       "855   Lidl is total chaos, queues as long as the ais...  Extremely Negative   \n",
       "\n",
       "                                             clean_text  text_len  token_len  \n",
       "3505  stop misusing ur privilege amp grow up some1 c...        57         73  \n",
       "1789  for those that are cashlong patientcalmamphave...        44         71  \n",
       "2177  yo mama so nasty covid wont take heryo mama so...        48         70  \n",
       "2997  stop frenzybuying you dont need most of what y...        38         70  \n",
       "855   lidl is total chaos queues as long as the aisl...        62         70  "
      ]
     },
     "execution_count": 45,
     "metadata": {},
     "output_type": "execute_result"
    }
   ],
   "source": [
    "df_test=df_test[5:]\n",
    "df_test.head()"
   ]
  },
  {
   "cell_type": "code",
   "execution_count": 46,
   "metadata": {
    "execution": {
     "iopub.execute_input": "2022-01-13T02:03:24.700304Z",
     "iopub.status.busy": "2022-01-13T02:03:24.699928Z",
     "iopub.status.idle": "2022-01-13T02:03:24.708077Z",
     "shell.execute_reply": "2022-01-13T02:03:24.707398Z",
     "shell.execute_reply.started": "2022-01-13T02:03:24.700138Z"
    }
   },
   "outputs": [],
   "source": [
    "df_test = df_test.sample(frac=1).reset_index(drop=True)"
   ]
  },
  {
   "cell_type": "code",
   "execution_count": 47,
   "metadata": {
    "execution": {
     "iopub.execute_input": "2022-01-13T02:03:24.709868Z",
     "iopub.status.busy": "2022-01-13T02:03:24.709500Z",
     "iopub.status.idle": "2022-01-13T02:03:24.721894Z",
     "shell.execute_reply": "2022-01-13T02:03:24.721212Z",
     "shell.execute_reply.started": "2022-01-13T02:03:24.709832Z"
    }
   },
   "outputs": [
    {
     "data": {
      "text/html": [
       "<div>\n",
       "<style scoped>\n",
       "    .dataframe tbody tr th:only-of-type {\n",
       "        vertical-align: middle;\n",
       "    }\n",
       "\n",
       "    .dataframe tbody tr th {\n",
       "        vertical-align: top;\n",
       "    }\n",
       "\n",
       "    .dataframe thead th {\n",
       "        text-align: right;\n",
       "    }\n",
       "</style>\n",
       "<table border=\"1\" class=\"dataframe\">\n",
       "  <thead>\n",
       "    <tr style=\"text-align: right;\">\n",
       "      <th></th>\n",
       "      <th>OriginalTweet</th>\n",
       "      <th>Sentiment</th>\n",
       "      <th>clean_text</th>\n",
       "      <th>text_len</th>\n",
       "      <th>token_len</th>\n",
       "    </tr>\n",
       "  </thead>\n",
       "  <tbody>\n",
       "    <tr>\n",
       "      <th>0</th>\n",
       "      <td>Went to the supermarket this morning for the r...</td>\n",
       "      <td>Neutral</td>\n",
       "      <td>went to the supermarket this morning for the r...</td>\n",
       "      <td>22</td>\n",
       "      <td>30</td>\n",
       "    </tr>\n",
       "    <tr>\n",
       "      <th>1</th>\n",
       "      <td>Dunno if you e heard, but theres this thing g...</td>\n",
       "      <td>Negative</td>\n",
       "      <td>dunno if you e heard but theres this thing goi...</td>\n",
       "      <td>23</td>\n",
       "      <td>29</td>\n",
       "    </tr>\n",
       "    <tr>\n",
       "      <th>2</th>\n",
       "      <td>Anyone else scared of #coronavirus causing wor...</td>\n",
       "      <td>Negative</td>\n",
       "      <td>anyone else scared of coronavirus causing worl...</td>\n",
       "      <td>42</td>\n",
       "      <td>52</td>\n",
       "    </tr>\n",
       "    <tr>\n",
       "      <th>3</th>\n",
       "      <td>I think it's safe to say that the current situ...</td>\n",
       "      <td>Positive</td>\n",
       "      <td>i think its safe to say that the current situa...</td>\n",
       "      <td>38</td>\n",
       "      <td>41</td>\n",
       "    </tr>\n",
       "    <tr>\n",
       "      <th>4</th>\n",
       "      <td>Everyone panicking and buying up the grocery s...</td>\n",
       "      <td>Negative</td>\n",
       "      <td>everyone panicking and buying up the grocery s...</td>\n",
       "      <td>22</td>\n",
       "      <td>29</td>\n",
       "    </tr>\n",
       "  </tbody>\n",
       "</table>\n",
       "</div>"
      ],
      "text/plain": [
       "                                       OriginalTweet Sentiment  \\\n",
       "0  Went to the supermarket this morning for the r...   Neutral   \n",
       "1  Dunno if you e heard, but theres this thing g...  Negative   \n",
       "2  Anyone else scared of #coronavirus causing wor...  Negative   \n",
       "3  I think it's safe to say that the current situ...  Positive   \n",
       "4  Everyone panicking and buying up the grocery s...  Negative   \n",
       "\n",
       "                                          clean_text  text_len  token_len  \n",
       "0  went to the supermarket this morning for the r...        22         30  \n",
       "1  dunno if you e heard but theres this thing goi...        23         29  \n",
       "2  anyone else scared of coronavirus causing worl...        42         52  \n",
       "3  i think its safe to say that the current situa...        38         41  \n",
       "4  everyone panicking and buying up the grocery s...        22         29  "
      ]
     },
     "execution_count": 47,
     "metadata": {},
     "output_type": "execute_result"
    }
   ],
   "source": [
    "df_test.head()"
   ]
  },
  {
   "cell_type": "code",
   "execution_count": 48,
   "metadata": {
    "execution": {
     "iopub.execute_input": "2022-01-13T02:03:24.723426Z",
     "iopub.status.busy": "2022-01-13T02:03:24.722825Z",
     "iopub.status.idle": "2022-01-13T02:03:24.735226Z",
     "shell.execute_reply": "2022-01-13T02:03:24.734583Z",
     "shell.execute_reply.started": "2022-01-13T02:03:24.723391Z"
    }
   },
   "outputs": [
    {
     "data": {
      "text/plain": [
       "Positive              11376\n",
       "Negative               9887\n",
       "Neutral                7554\n",
       "Extremely Positive     6618\n",
       "Extremely Negative     5475\n",
       "Name: Sentiment, dtype: int64"
      ]
     },
     "execution_count": 48,
     "metadata": {},
     "output_type": "execute_result"
    }
   ],
   "source": [
    "df['Sentiment'].value_counts()"
   ]
  },
  {
   "cell_type": "code",
   "execution_count": 49,
   "metadata": {
    "execution": {
     "iopub.execute_input": "2022-01-13T02:03:24.736498Z",
     "iopub.status.busy": "2022-01-13T02:03:24.736204Z",
     "iopub.status.idle": "2022-01-13T02:03:24.751981Z",
     "shell.execute_reply": "2022-01-13T02:03:24.751201Z",
     "shell.execute_reply.started": "2022-01-13T02:03:24.736464Z"
    }
   },
   "outputs": [],
   "source": [
    "df['Sentiment'] = df['Sentiment'].map({'Extremely Negative':0,'Negative':0,'Neutral':1,\n",
    "                                       'Positive':2,'Extremely Positive':2})\n",
    "df_test['Sentiment'] = df_test['Sentiment'].map({'Extremely Negative':0,'Negative':0,'Neutral':1,\n",
    "                                                 'Positive':2,'Extremely Positive':2})\n",
    "#Encoding the target column"
   ]
  },
  {
   "cell_type": "code",
   "execution_count": 50,
   "metadata": {
    "execution": {
     "iopub.execute_input": "2022-01-13T02:03:24.753583Z",
     "iopub.status.busy": "2022-01-13T02:03:24.753068Z",
     "iopub.status.idle": "2022-01-13T02:03:24.765060Z",
     "shell.execute_reply": "2022-01-13T02:03:24.764189Z",
     "shell.execute_reply.started": "2022-01-13T02:03:24.753534Z"
    }
   },
   "outputs": [
    {
     "data": {
      "text/html": [
       "<div>\n",
       "<style scoped>\n",
       "    .dataframe tbody tr th:only-of-type {\n",
       "        vertical-align: middle;\n",
       "    }\n",
       "\n",
       "    .dataframe tbody tr th {\n",
       "        vertical-align: top;\n",
       "    }\n",
       "\n",
       "    .dataframe thead th {\n",
       "        text-align: right;\n",
       "    }\n",
       "</style>\n",
       "<table border=\"1\" class=\"dataframe\">\n",
       "  <thead>\n",
       "    <tr style=\"text-align: right;\">\n",
       "      <th></th>\n",
       "      <th>OriginalTweet</th>\n",
       "      <th>Sentiment</th>\n",
       "      <th>clean_text</th>\n",
       "      <th>text_len</th>\n",
       "      <th>token_len</th>\n",
       "    </tr>\n",
       "  </thead>\n",
       "  <tbody>\n",
       "    <tr>\n",
       "      <th>0</th>\n",
       "      <td>Went to the supermarket this morning for the r...</td>\n",
       "      <td>1</td>\n",
       "      <td>went to the supermarket this morning for the r...</td>\n",
       "      <td>22</td>\n",
       "      <td>30</td>\n",
       "    </tr>\n",
       "    <tr>\n",
       "      <th>1</th>\n",
       "      <td>Dunno if you e heard, but theres this thing g...</td>\n",
       "      <td>0</td>\n",
       "      <td>dunno if you e heard but theres this thing goi...</td>\n",
       "      <td>23</td>\n",
       "      <td>29</td>\n",
       "    </tr>\n",
       "    <tr>\n",
       "      <th>2</th>\n",
       "      <td>Anyone else scared of #coronavirus causing wor...</td>\n",
       "      <td>0</td>\n",
       "      <td>anyone else scared of coronavirus causing worl...</td>\n",
       "      <td>42</td>\n",
       "      <td>52</td>\n",
       "    </tr>\n",
       "    <tr>\n",
       "      <th>3</th>\n",
       "      <td>I think it's safe to say that the current situ...</td>\n",
       "      <td>2</td>\n",
       "      <td>i think its safe to say that the current situa...</td>\n",
       "      <td>38</td>\n",
       "      <td>41</td>\n",
       "    </tr>\n",
       "    <tr>\n",
       "      <th>4</th>\n",
       "      <td>Everyone panicking and buying up the grocery s...</td>\n",
       "      <td>0</td>\n",
       "      <td>everyone panicking and buying up the grocery s...</td>\n",
       "      <td>22</td>\n",
       "      <td>29</td>\n",
       "    </tr>\n",
       "  </tbody>\n",
       "</table>\n",
       "</div>"
      ],
      "text/plain": [
       "                                       OriginalTweet  Sentiment  \\\n",
       "0  Went to the supermarket this morning for the r...          1   \n",
       "1  Dunno if you e heard, but theres this thing g...          0   \n",
       "2  Anyone else scared of #coronavirus causing wor...          0   \n",
       "3  I think it's safe to say that the current situ...          2   \n",
       "4  Everyone panicking and buying up the grocery s...          0   \n",
       "\n",
       "                                          clean_text  text_len  token_len  \n",
       "0  went to the supermarket this morning for the r...        22         30  \n",
       "1  dunno if you e heard but theres this thing goi...        23         29  \n",
       "2  anyone else scared of coronavirus causing worl...        42         52  \n",
       "3  i think its safe to say that the current situa...        38         41  \n",
       "4  everyone panicking and buying up the grocery s...        22         29  "
      ]
     },
     "execution_count": 50,
     "metadata": {},
     "output_type": "execute_result"
    }
   ],
   "source": [
    "df_test.head()"
   ]
  },
  {
   "cell_type": "code",
   "execution_count": 51,
   "metadata": {
    "execution": {
     "iopub.execute_input": "2022-01-13T02:03:24.766596Z",
     "iopub.status.busy": "2022-01-13T02:03:24.766342Z",
     "iopub.status.idle": "2022-01-13T02:03:24.775901Z",
     "shell.execute_reply": "2022-01-13T02:03:24.775212Z",
     "shell.execute_reply.started": "2022-01-13T02:03:24.766556Z"
    }
   },
   "outputs": [
    {
     "data": {
      "text/html": [
       "<div>\n",
       "<style scoped>\n",
       "    .dataframe tbody tr th:only-of-type {\n",
       "        vertical-align: middle;\n",
       "    }\n",
       "\n",
       "    .dataframe tbody tr th {\n",
       "        vertical-align: top;\n",
       "    }\n",
       "\n",
       "    .dataframe thead th {\n",
       "        text-align: right;\n",
       "    }\n",
       "</style>\n",
       "<table border=\"1\" class=\"dataframe\">\n",
       "  <thead>\n",
       "    <tr style=\"text-align: right;\">\n",
       "      <th></th>\n",
       "      <th>OriginalTweet</th>\n",
       "      <th>Sentiment</th>\n",
       "      <th>clean_text</th>\n",
       "      <th>text_len</th>\n",
       "      <th>token_len</th>\n",
       "    </tr>\n",
       "  </thead>\n",
       "  <tbody>\n",
       "    <tr>\n",
       "      <th>0</th>\n",
       "      <td>Went to the grocery store. I suppose no more s...</td>\n",
       "      <td>0</td>\n",
       "      <td>went to the grocery store i suppose no more sm...</td>\n",
       "      <td>31</td>\n",
       "      <td>41</td>\n",
       "    </tr>\n",
       "    <tr>\n",
       "      <th>1</th>\n",
       "      <td>Ocado expected to impose rationing on more pro...</td>\n",
       "      <td>0</td>\n",
       "      <td>ocado expected to impose rationing on more pro...</td>\n",
       "      <td>19</td>\n",
       "      <td>36</td>\n",
       "    </tr>\n",
       "    <tr>\n",
       "      <th>2</th>\n",
       "      <td>Celebrity in the time of</td>\n",
       "      <td>1</td>\n",
       "      <td>celebrity in the time of</td>\n",
       "      <td>5</td>\n",
       "      <td>7</td>\n",
       "    </tr>\n",
       "    <tr>\n",
       "      <th>3</th>\n",
       "      <td>This is awesome! #supermarket #COVID19 #corona...</td>\n",
       "      <td>2</td>\n",
       "      <td>this is awesome supermarket covid19 coronaviru...</td>\n",
       "      <td>11</td>\n",
       "      <td>25</td>\n",
       "    </tr>\n",
       "    <tr>\n",
       "      <th>4</th>\n",
       "      <td>Antiplastic trends and sudden Thai government ...</td>\n",
       "      <td>1</td>\n",
       "      <td>antiplastic trends and sudden thai government ...</td>\n",
       "      <td>33</td>\n",
       "      <td>50</td>\n",
       "    </tr>\n",
       "  </tbody>\n",
       "</table>\n",
       "</div>"
      ],
      "text/plain": [
       "                                       OriginalTweet  Sentiment  \\\n",
       "0  Went to the grocery store. I suppose no more s...          0   \n",
       "1  Ocado expected to impose rationing on more pro...          0   \n",
       "2                           Celebrity in the time of          1   \n",
       "3  This is awesome! #supermarket #COVID19 #corona...          2   \n",
       "4  Antiplastic trends and sudden Thai government ...          1   \n",
       "\n",
       "                                          clean_text  text_len  token_len  \n",
       "0  went to the grocery store i suppose no more sm...        31         41  \n",
       "1  ocado expected to impose rationing on more pro...        19         36  \n",
       "2                           celebrity in the time of         5          7  \n",
       "3  this is awesome supermarket covid19 coronaviru...        11         25  \n",
       "4  antiplastic trends and sudden thai government ...        33         50  "
      ]
     },
     "execution_count": 51,
     "metadata": {},
     "output_type": "execute_result"
    }
   ],
   "source": [
    "df.head()"
   ]
  },
  {
   "cell_type": "code",
   "execution_count": 52,
   "metadata": {
    "execution": {
     "iopub.execute_input": "2022-01-13T02:03:24.777832Z",
     "iopub.status.busy": "2022-01-13T02:03:24.777348Z",
     "iopub.status.idle": "2022-01-13T02:03:24.787385Z",
     "shell.execute_reply": "2022-01-13T02:03:24.786672Z",
     "shell.execute_reply.started": "2022-01-13T02:03:24.777797Z"
    }
   },
   "outputs": [
    {
     "data": {
      "text/plain": [
       "2    17994\n",
       "0    15362\n",
       "1     7554\n",
       "Name: Sentiment, dtype: int64"
      ]
     },
     "execution_count": 52,
     "metadata": {},
     "output_type": "execute_result"
    }
   ],
   "source": [
    "df['Sentiment'].value_counts()"
   ]
  },
  {
   "cell_type": "markdown",
   "metadata": {},
   "source": [
    "# Oversampling"
   ]
  },
  {
   "cell_type": "code",
   "execution_count": 53,
   "metadata": {
    "execution": {
     "iopub.execute_input": "2022-01-13T02:03:24.789993Z",
     "iopub.status.busy": "2022-01-13T02:03:24.789464Z",
     "iopub.status.idle": "2022-01-13T02:03:25.076431Z",
     "shell.execute_reply": "2022-01-13T02:03:25.075592Z",
     "shell.execute_reply.started": "2022-01-13T02:03:24.789960Z"
    }
   },
   "outputs": [],
   "source": [
    "from imblearn.over_sampling import RandomOverSampler\n",
    "ros = RandomOverSampler()\n",
    "train_x, train_y = ros.fit_resample(np.array(df['clean_text']).reshape(-1, 1), np.array(df['Sentiment']).reshape(-1, 1));\n",
    "train_os = pd.DataFrame(list(zip([x[0] for x in train_x], train_y)), columns = ['clean_text', 'Sentiment']);"
   ]
  },
  {
   "cell_type": "code",
   "execution_count": 56,
   "metadata": {
    "execution": {
     "iopub.execute_input": "2022-01-13T02:03:25.100452Z",
     "iopub.status.busy": "2022-01-13T02:03:25.099633Z",
     "iopub.status.idle": "2022-01-13T02:03:25.108649Z",
     "shell.execute_reply": "2022-01-13T02:03:25.107604Z",
     "shell.execute_reply.started": "2022-01-13T02:03:25.100416Z"
    }
   },
   "outputs": [
    {
     "data": {
      "text/plain": [
       "0    17994\n",
       "1    17994\n",
       "2    17994\n",
       "Name: Sentiment, dtype: int64"
      ]
     },
     "execution_count": 56,
     "metadata": {},
     "output_type": "execute_result"
    }
   ],
   "source": [
    "train_os['Sentiment'].value_counts()#Now all the classes have equal number of samples"
   ]
  },
  {
   "cell_type": "markdown",
   "metadata": {},
   "source": [
    "# Train Valid Split"
   ]
  },
  {
   "cell_type": "code",
   "execution_count": 57,
   "metadata": {
    "execution": {
     "iopub.execute_input": "2022-01-13T02:03:25.110424Z",
     "iopub.status.busy": "2022-01-13T02:03:25.110160Z",
     "iopub.status.idle": "2022-01-13T02:03:25.115951Z",
     "shell.execute_reply": "2022-01-13T02:03:25.115170Z",
     "shell.execute_reply.started": "2022-01-13T02:03:25.110389Z"
    }
   },
   "outputs": [],
   "source": [
    "X=train_os['clean_text'].values\n",
    "y=train_os['Sentiment'].values"
   ]
  },
  {
   "cell_type": "code",
   "execution_count": 58,
   "metadata": {
    "execution": {
     "iopub.execute_input": "2022-01-13T02:03:25.118115Z",
     "iopub.status.busy": "2022-01-13T02:03:25.117942Z",
     "iopub.status.idle": "2022-01-13T02:03:25.161101Z",
     "shell.execute_reply": "2022-01-13T02:03:25.160492Z",
     "shell.execute_reply.started": "2022-01-13T02:03:25.118089Z"
    }
   },
   "outputs": [],
   "source": [
    "X_train, X_valid, y_train, y_valid = train_test_split(X, y, test_size=0.1, stratify=y, random_state=42)"
   ]
  },
  {
   "cell_type": "code",
   "execution_count": 59,
   "metadata": {
    "execution": {
     "iopub.execute_input": "2022-01-13T02:03:25.163659Z",
     "iopub.status.busy": "2022-01-13T02:03:25.162268Z",
     "iopub.status.idle": "2022-01-13T02:03:25.169133Z",
     "shell.execute_reply": "2022-01-13T02:03:25.168256Z",
     "shell.execute_reply.started": "2022-01-13T02:03:25.163634Z"
    }
   },
   "outputs": [],
   "source": [
    "X_test = df_test['clean_text'].values\n",
    "y_test = df_test['Sentiment'].values"
   ]
  },
  {
   "cell_type": "code",
   "execution_count": 60,
   "metadata": {
    "execution": {
     "iopub.execute_input": "2022-01-13T02:03:25.171133Z",
     "iopub.status.busy": "2022-01-13T02:03:25.170365Z",
     "iopub.status.idle": "2022-01-13T02:03:25.176393Z",
     "shell.execute_reply": "2022-01-13T02:03:25.175610Z",
     "shell.execute_reply.started": "2022-01-13T02:03:25.171098Z"
    }
   },
   "outputs": [],
   "source": [
    "#We are making a copy of label encoded columns\n",
    "y_train_le = y_train.copy()\n",
    "y_valid_le = y_valid.copy()\n",
    "y_test_le = y_test.copy()"
   ]
  },
  {
   "cell_type": "markdown",
   "metadata": {},
   "source": [
    "# One Hot Encoding"
   ]
  },
  {
   "cell_type": "code",
   "execution_count": 61,
   "metadata": {
    "execution": {
     "iopub.execute_input": "2022-01-13T02:03:25.177855Z",
     "iopub.status.busy": "2022-01-13T02:03:25.177539Z",
     "iopub.status.idle": "2022-01-13T02:03:25.193079Z",
     "shell.execute_reply": "2022-01-13T02:03:25.192380Z",
     "shell.execute_reply.started": "2022-01-13T02:03:25.177821Z"
    }
   },
   "outputs": [],
   "source": [
    "import sklearn\n",
    "ohe = sklearn.preprocessing.OneHotEncoder()\n",
    "y_train1 = ohe.fit_transform(np.array(y_train).reshape(-1, 1)).toarray()\n",
    "y_valid1 = ohe.fit_transform(np.array(y_valid).reshape(-1, 1)).toarray()\n",
    "y_test1 = ohe.fit_transform(np.array(y_test).reshape(-1, 1)).toarray()"
   ]
  },
  {
   "cell_type": "markdown",
   "metadata": {},
   "source": [
    "#### when target was label encoded the model was not giving high accuracy because model tends to be bias at label 2 than label 1 as expected ,So we will be using one hot encoding "
   ]
  },
  {
   "cell_type": "code",
   "execution_count": 62,
   "metadata": {
    "execution": {
     "iopub.execute_input": "2022-01-13T02:03:25.194994Z",
     "iopub.status.busy": "2022-01-13T02:03:25.194458Z",
     "iopub.status.idle": "2022-01-13T02:03:25.201351Z",
     "shell.execute_reply": "2022-01-13T02:03:25.200572Z",
     "shell.execute_reply.started": "2022-01-13T02:03:25.194958Z"
    }
   },
   "outputs": [
    {
     "data": {
      "text/plain": [
       "array([[1., 0., 0.],\n",
       "       [1., 0., 0.],\n",
       "       [1., 0., 0.],\n",
       "       ...,\n",
       "       [0., 0., 1.],\n",
       "       [1., 0., 0.],\n",
       "       [1., 0., 0.]])"
      ]
     },
     "execution_count": 62,
     "metadata": {},
     "output_type": "execute_result"
    }
   ],
   "source": [
    "y_train1"
   ]
  },
  {
   "cell_type": "code",
   "execution_count": 63,
   "metadata": {
    "execution": {
     "iopub.execute_input": "2022-01-13T02:03:25.203518Z",
     "iopub.status.busy": "2022-01-13T02:03:25.202984Z",
     "iopub.status.idle": "2022-01-13T02:03:25.209826Z",
     "shell.execute_reply": "2022-01-13T02:03:25.209064Z",
     "shell.execute_reply.started": "2022-01-13T02:03:25.203479Z"
    }
   },
   "outputs": [
    {
     "name": "stdout",
     "output_type": "stream",
     "text": [
      "TRAINING DATA: 48583\n",
      "VALIDATION DATA: 5399\n",
      "TESTING DATA: 3787\n"
     ]
    }
   ],
   "source": [
    "print(f\"TRAINING DATA: {X_train.shape[0]}\\nVALIDATION DATA: {X_valid.shape[0]}\\nTESTING DATA: {X_test.shape[0]}\" )"
   ]
  },
  {
   "cell_type": "markdown",
   "metadata": {},
   "source": [
    "# Bert Modelling"
   ]
  },
  {
   "cell_type": "code",
   "execution_count": 71,
   "metadata": {
    "execution": {
     "iopub.execute_input": "2022-01-13T02:03:27.170489Z",
     "iopub.status.busy": "2022-01-13T02:03:27.170251Z",
     "iopub.status.idle": "2022-01-13T02:03:27.173870Z",
     "shell.execute_reply": "2022-01-13T02:03:27.173130Z",
     "shell.execute_reply.started": "2022-01-13T02:03:27.170457Z"
    }
   },
   "outputs": [],
   "source": [
    "MAX_LEN=128"
   ]
  },
  {
   "cell_type": "code",
   "execution_count": 80,
   "metadata": {
    "execution": {
     "iopub.execute_input": "2022-01-13T02:55:12.213698Z",
     "iopub.status.busy": "2022-01-13T02:55:12.213370Z",
     "iopub.status.idle": "2022-01-13T02:55:12.224222Z",
     "shell.execute_reply": "2022-01-13T02:55:12.223438Z",
     "shell.execute_reply.started": "2022-01-13T02:55:12.213662Z"
    }
   },
   "outputs": [
    {
     "data": {
      "text/plain": [
       "{'input_ids': [101, 2035, 2017, 18656, 2040, 2228, 26071, 2300, 2003, 1037, 4121, 9470, 2157, 2085, 2323, 5382, 2008, 2116, 2024, 6069, 2022, 8110, 2068, 2039, 2007, 11112, 2300, 1998, 4855, 2009, 2000, 2017, 2012, 10021, 7597, 3426, 1997, 1996, 15561, 10047, 2469, 2116, 2467, 2106, 21887, 23350, 102, 0, 0, 0, 0, 0, 0, 0, 0, 0, 0, 0, 0, 0, 0, 0, 0, 0, 0, 0, 0, 0, 0, 0, 0, 0, 0, 0, 0, 0, 0, 0, 0, 0, 0, 0, 0, 0, 0, 0, 0, 0, 0, 0, 0, 0, 0, 0, 0, 0, 0, 0, 0, 0, 0, 0, 0, 0, 0, 0, 0, 0, 0, 0, 0, 0, 0, 0, 0, 0, 0, 0, 0, 0, 0, 0, 0, 0, 0, 0, 0, 0], 'token_type_ids': [0, 0, 0, 0, 0, 0, 0, 0, 0, 0, 0, 0, 0, 0, 0, 0, 0, 0, 0, 0, 0, 0, 0, 0, 0, 0, 0, 0, 0, 0, 0, 0, 0, 0, 0, 0, 0, 0, 0, 0, 0, 0, 0, 0, 0, 0, 0, 0, 0, 0, 0, 0, 0, 0, 0, 0, 0, 0, 0, 0, 0, 0, 0, 0, 0, 0, 0, 0, 0, 0, 0, 0, 0, 0, 0, 0, 0, 0, 0, 0, 0, 0, 0, 0, 0, 0, 0, 0, 0, 0, 0, 0, 0, 0, 0, 0, 0, 0, 0, 0, 0, 0, 0, 0, 0, 0, 0, 0, 0, 0, 0, 0, 0, 0, 0, 0, 0, 0, 0, 0, 0, 0, 0, 0, 0, 0, 0, 0], 'attention_mask': [1, 1, 1, 1, 1, 1, 1, 1, 1, 1, 1, 1, 1, 1, 1, 1, 1, 1, 1, 1, 1, 1, 1, 1, 1, 1, 1, 1, 1, 1, 1, 1, 1, 1, 1, 1, 1, 1, 1, 1, 1, 1, 1, 1, 1, 1, 1, 0, 0, 0, 0, 0, 0, 0, 0, 0, 0, 0, 0, 0, 0, 0, 0, 0, 0, 0, 0, 0, 0, 0, 0, 0, 0, 0, 0, 0, 0, 0, 0, 0, 0, 0, 0, 0, 0, 0, 0, 0, 0, 0, 0, 0, 0, 0, 0, 0, 0, 0, 0, 0, 0, 0, 0, 0, 0, 0, 0, 0, 0, 0, 0, 0, 0, 0, 0, 0, 0, 0, 0, 0, 0, 0, 0, 0, 0, 0, 0, 0]}"
      ]
     },
     "execution_count": 80,
     "metadata": {},
     "output_type": "execute_result"
    }
   ],
   "source": [
    "#Let's check how the encoding is performed and ids,attention masks are made\n",
    "encoded_sample = tokenizer.encode_plus(\n",
    "            X_train[2],\n",
    "            add_special_tokens=True,\n",
    "            max_length=MAX_LEN,\n",
    "            padding='max_length',\n",
    "            return_attention_mask=True\n",
    "        )\n",
    "encoded_sample"
   ]
  },
  {
   "cell_type": "code",
   "execution_count": 72,
   "metadata": {
    "execution": {
     "iopub.execute_input": "2022-01-13T02:03:27.175931Z",
     "iopub.status.busy": "2022-01-13T02:03:27.175418Z",
     "iopub.status.idle": "2022-01-13T02:03:27.183211Z",
     "shell.execute_reply": "2022-01-13T02:03:27.182601Z",
     "shell.execute_reply.started": "2022-01-13T02:03:27.175830Z"
    }
   },
   "outputs": [],
   "source": [
    "#We are tokenizing the tweets and extracting the attention masks and input masks\n",
    "def tokenize(data,max_len=MAX_LEN) :\n",
    "    input_ids = []\n",
    "    attention_masks = []\n",
    "    for i in range(len(data)):\n",
    "        encoded = tokenizer.encode_plus(\n",
    "            data[i],\n",
    "            add_special_tokens=True,\n",
    "            max_length=MAX_LEN,\n",
    "            padding='max_length',\n",
    "            return_attention_mask=True\n",
    "        )\n",
    "        input_ids.append(encoded['input_ids'])\n",
    "        attention_masks.append(encoded['attention_mask'])\n",
    "    return np.array(input_ids),np.array(attention_masks)"
   ]
  },
  {
   "cell_type": "code",
   "execution_count": 73,
   "metadata": {
    "execution": {
     "iopub.execute_input": "2022-01-13T02:03:27.184979Z",
     "iopub.status.busy": "2022-01-13T02:03:27.184649Z",
     "iopub.status.idle": "2022-01-13T02:03:42.912095Z",
     "shell.execute_reply": "2022-01-13T02:03:42.911338Z",
     "shell.execute_reply.started": "2022-01-13T02:03:27.184945Z"
    }
   },
   "outputs": [],
   "source": [
    "train_input_ids, train_attention_masks = tokenize(X_train, MAX_LEN)\n",
    "val_input_ids, val_attention_masks = tokenize(X_valid, MAX_LEN)\n",
    "test_input_ids, test_attention_masks = tokenize(X_test, MAX_LEN)"
   ]
  },
  {
   "cell_type": "code",
   "execution_count": 74,
   "metadata": {
    "execution": {
     "iopub.execute_input": "2022-01-13T02:03:42.913576Z",
     "iopub.status.busy": "2022-01-13T02:03:42.913310Z",
     "iopub.status.idle": "2022-01-13T02:04:07.483670Z",
     "shell.execute_reply": "2022-01-13T02:04:07.482960Z",
     "shell.execute_reply.started": "2022-01-13T02:03:42.913527Z"
    }
   },
   "outputs": [
    {
     "data": {
      "application/vnd.jupyter.widget-view+json": {
       "model_id": "663ce67a5cca4cb3ac7c6ddd7999e600",
       "version_major": 2,
       "version_minor": 0
      },
      "text/plain": [
       "Downloading:   0%|          | 0.00/511M [00:00<?, ?B/s]"
      ]
     },
     "metadata": {},
     "output_type": "display_data"
    },
    {
     "name": "stderr",
     "output_type": "stream",
     "text": [
      "2022-01-13 02:04:00.839296: I tensorflow/stream_executor/cuda/cuda_gpu_executor.cc:937] successful NUMA node read from SysFS had negative value (-1), but there must be at least one NUMA node, so returning NUMA node zero\n",
      "2022-01-13 02:04:00.840532: I tensorflow/stream_executor/cuda/cuda_gpu_executor.cc:937] successful NUMA node read from SysFS had negative value (-1), but there must be at least one NUMA node, so returning NUMA node zero\n",
      "2022-01-13 02:04:00.841327: I tensorflow/stream_executor/cuda/cuda_gpu_executor.cc:937] successful NUMA node read from SysFS had negative value (-1), but there must be at least one NUMA node, so returning NUMA node zero\n",
      "2022-01-13 02:04:00.842270: I tensorflow/core/platform/cpu_feature_guard.cc:142] This TensorFlow binary is optimized with oneAPI Deep Neural Network Library (oneDNN) to use the following CPU instructions in performance-critical operations:  AVX2 AVX512F FMA\n",
      "To enable them in other operations, rebuild TensorFlow with the appropriate compiler flags.\n",
      "2022-01-13 02:04:00.843454: I tensorflow/stream_executor/cuda/cuda_gpu_executor.cc:937] successful NUMA node read from SysFS had negative value (-1), but there must be at least one NUMA node, so returning NUMA node zero\n",
      "2022-01-13 02:04:00.844142: I tensorflow/stream_executor/cuda/cuda_gpu_executor.cc:937] successful NUMA node read from SysFS had negative value (-1), but there must be at least one NUMA node, so returning NUMA node zero\n",
      "2022-01-13 02:04:00.844817: I tensorflow/stream_executor/cuda/cuda_gpu_executor.cc:937] successful NUMA node read from SysFS had negative value (-1), but there must be at least one NUMA node, so returning NUMA node zero\n",
      "2022-01-13 02:04:05.202524: I tensorflow/stream_executor/cuda/cuda_gpu_executor.cc:937] successful NUMA node read from SysFS had negative value (-1), but there must be at least one NUMA node, so returning NUMA node zero\n",
      "2022-01-13 02:04:05.203429: I tensorflow/stream_executor/cuda/cuda_gpu_executor.cc:937] successful NUMA node read from SysFS had negative value (-1), but there must be at least one NUMA node, so returning NUMA node zero\n",
      "2022-01-13 02:04:05.204098: I tensorflow/stream_executor/cuda/cuda_gpu_executor.cc:937] successful NUMA node read from SysFS had negative value (-1), but there must be at least one NUMA node, so returning NUMA node zero\n",
      "2022-01-13 02:04:05.204665: I tensorflow/core/common_runtime/gpu/gpu_device.cc:1510] Created device /job:localhost/replica:0/task:0/device:GPU:0 with 14959 MB memory:  -> device: 0, name: Tesla P100-PCIE-16GB, pci bus id: 0000:00:04.0, compute capability: 6.0\n",
      "Some layers from the model checkpoint at bert-base-uncased were not used when initializing TFBertModel: ['nsp___cls', 'mlm___cls']\n",
      "- This IS expected if you are initializing TFBertModel from the checkpoint of a model trained on another task or with another architecture (e.g. initializing a BertForSequenceClassification model from a BertForPreTraining model).\n",
      "- This IS NOT expected if you are initializing TFBertModel from the checkpoint of a model that you expect to be exactly identical (initializing a BertForSequenceClassification model from a BertForSequenceClassification model).\n",
      "All the layers of TFBertModel were initialized from the model checkpoint at bert-base-uncased.\n",
      "If your task is similar to the task the model of the checkpoint was trained on, you can already use TFBertModel for predictions without further training.\n"
     ]
    }
   ],
   "source": [
    "bert_model=TFBertModel.from_pretrained('bert-base-uncased')"
   ]
  },
  {
   "cell_type": "code",
   "execution_count": 75,
   "metadata": {
    "execution": {
     "iopub.execute_input": "2022-01-13T02:04:07.485602Z",
     "iopub.status.busy": "2022-01-13T02:04:07.485128Z",
     "iopub.status.idle": "2022-01-13T02:04:07.500618Z",
     "shell.execute_reply": "2022-01-13T02:04:07.499664Z",
     "shell.execute_reply.started": "2022-01-13T02:04:07.485562Z"
    }
   },
   "outputs": [],
   "source": [
    "#Creating the bert based model\n",
    "def create_model(bert_model, max_len=MAX_LEN):\n",
    "    \n",
    "    #Parameters for compiling the models\n",
    "    opt = tf.keras.optimizers.Adam(learning_rate=1e-5, decay=1e-7)\n",
    "    loss = tf.keras.losses.CategoricalCrossentropy()\n",
    "    accuracy = tf.keras.metrics.CategoricalAccuracy()\n",
    "\n",
    "\n",
    "    #We will be building a functional api model instead of sequential with two inputs and 1 output\n",
    "    input_ids = tf.keras.Input(shape=(max_len,),dtype='int32')#input-1\n",
    "    \n",
    "    attention_masks = tf.keras.Input(shape=(max_len,),dtype='int32')#input-2\n",
    "    \n",
    "    embeddings = bert_model([input_ids,attention_masks])[1]\n",
    "    \n",
    "    output = tf.keras.layers.Dense(3, activation=\"softmax\")(embeddings)\n",
    "    \n",
    "    model = tf.keras.models.Model(inputs = [input_ids,attention_masks], outputs = output)\n",
    "    \n",
    "    model.compile(opt, loss=loss, metrics=accuracy)\n",
    "    \n",
    "    \n",
    "    return model"
   ]
  },
  {
   "cell_type": "code",
   "execution_count": 76,
   "metadata": {
    "execution": {
     "iopub.execute_input": "2022-01-13T02:04:07.501857Z",
     "iopub.status.busy": "2022-01-13T02:04:07.501663Z",
     "iopub.status.idle": "2022-01-13T02:04:14.894411Z",
     "shell.execute_reply": "2022-01-13T02:04:14.893207Z",
     "shell.execute_reply.started": "2022-01-13T02:04:07.501829Z"
    }
   },
   "outputs": [
    {
     "name": "stdout",
     "output_type": "stream",
     "text": [
      "Model: \"model\"\n",
      "__________________________________________________________________________________________________\n",
      "Layer (type)                    Output Shape         Param #     Connected to                     \n",
      "==================================================================================================\n",
      "input_1 (InputLayer)            [(None, 128)]        0                                            \n",
      "__________________________________________________________________________________________________\n",
      "input_2 (InputLayer)            [(None, 128)]        0                                            \n",
      "__________________________________________________________________________________________________\n",
      "tf_bert_model (TFBertModel)     TFBaseModelOutputWit 109482240   input_1[0][0]                    \n",
      "                                                                 input_2[0][0]                    \n",
      "__________________________________________________________________________________________________\n",
      "dense (Dense)                   (None, 3)            2307        tf_bert_model[0][1]              \n",
      "==================================================================================================\n",
      "Total params: 109,484,547\n",
      "Trainable params: 109,484,547\n",
      "Non-trainable params: 0\n",
      "__________________________________________________________________________________________________\n"
     ]
    }
   ],
   "source": [
    "model_bert=create_model(bert_model,MAX_LEN)\n",
    "model_bert.summary()"
   ]
  },
  {
   "cell_type": "code",
   "execution_count": 77,
   "metadata": {
    "execution": {
     "iopub.execute_input": "2022-01-13T02:04:14.896113Z",
     "iopub.status.busy": "2022-01-13T02:04:14.895852Z",
     "iopub.status.idle": "2022-01-13T02:54:50.637172Z",
     "shell.execute_reply": "2022-01-13T02:54:50.636406Z",
     "shell.execute_reply.started": "2022-01-13T02:04:14.896077Z"
    }
   },
   "outputs": [
    {
     "name": "stderr",
     "output_type": "stream",
     "text": [
      "2022-01-13 02:04:15.188079: I tensorflow/compiler/mlir/mlir_graph_optimization_pass.cc:185] None of the MLIR Optimization Passes are enabled (registered 2)\n"
     ]
    },
    {
     "name": "stdout",
     "output_type": "stream",
     "text": [
      "Epoch 1/4\n",
      "1519/1519 [==============================] - 758s 490ms/step - loss: 0.5545 - categorical_accuracy: 0.7812 - val_loss: 0.3563 - val_categorical_accuracy: 0.8676\n",
      "Epoch 2/4\n",
      "1519/1519 [==============================] - 741s 488ms/step - loss: 0.3026 - categorical_accuracy: 0.8937 - val_loss: 0.2662 - val_categorical_accuracy: 0.8994\n",
      "Epoch 3/4\n",
      "1519/1519 [==============================] - 741s 488ms/step - loss: 0.2065 - categorical_accuracy: 0.9271 - val_loss: 0.3082 - val_categorical_accuracy: 0.8950\n",
      "Epoch 4/4\n",
      "1519/1519 [==============================] - 741s 488ms/step - loss: 0.1427 - categorical_accuracy: 0.9522 - val_loss: 0.2353 - val_categorical_accuracy: 0.9255\n"
     ]
    }
   ],
   "source": [
    "history_bert = model_bert.fit([train_input_ids,train_attention_masks], y_train1, validation_data=([val_input_ids,val_attention_masks], y_valid1), epochs=4, batch_size=32)"
   ]
  },
  {
   "cell_type": "markdown",
   "metadata": {},
   "source": [
    "# Results"
   ]
  },
  {
   "cell_type": "code",
   "execution_count": 78,
   "metadata": {
    "execution": {
     "iopub.execute_input": "2022-01-13T02:54:50.643201Z",
     "iopub.status.busy": "2022-01-13T02:54:50.642995Z",
     "iopub.status.idle": "2022-01-13T02:55:12.201480Z",
     "shell.execute_reply": "2022-01-13T02:55:12.200687Z",
     "shell.execute_reply.started": "2022-01-13T02:54:50.643176Z"
    }
   },
   "outputs": [],
   "source": [
    "bert_pred=model_bert.predict([test_input_ids,test_attention_masks])"
   ]
  },
  {
   "cell_type": "code",
   "execution_count": 81,
   "metadata": {
    "execution": {
     "iopub.execute_input": "2022-01-13T02:55:31.395160Z",
     "iopub.status.busy": "2022-01-13T02:55:31.394901Z",
     "iopub.status.idle": "2022-01-13T02:55:31.401129Z",
     "shell.execute_reply": "2022-01-13T02:55:31.400222Z",
     "shell.execute_reply.started": "2022-01-13T02:55:31.395129Z"
    }
   },
   "outputs": [
    {
     "data": {
      "text/plain": [
       "array([[1.9520568e-03, 9.9308020e-01, 4.9677100e-03],\n",
       "       [9.9497074e-01, 3.0806472e-03, 1.9486041e-03],\n",
       "       [9.6743339e-01, 1.1257712e-02, 2.1308839e-02],\n",
       "       ...,\n",
       "       [9.9908555e-01, 2.4291220e-04, 6.7148864e-04],\n",
       "       [1.7819270e-04, 1.6453057e-04, 9.9965727e-01],\n",
       "       [7.8710109e-05, 4.8548343e-05, 9.9987268e-01]], dtype=float32)"
      ]
     },
     "execution_count": 81,
     "metadata": {},
     "output_type": "execute_result"
    }
   ],
   "source": [
    "bert_pred"
   ]
  },
  {
   "cell_type": "code",
   "execution_count": 84,
   "metadata": {
    "execution": {
     "iopub.execute_input": "2022-01-13T02:55:50.104250Z",
     "iopub.status.busy": "2022-01-13T02:55:50.103978Z",
     "iopub.status.idle": "2022-01-13T02:55:50.110751Z",
     "shell.execute_reply": "2022-01-13T02:55:50.110064Z",
     "shell.execute_reply.started": "2022-01-13T02:55:50.104214Z"
    }
   },
   "outputs": [
    {
     "data": {
      "text/plain": [
       "array([[0., 1., 0.],\n",
       "       [1., 0., 0.],\n",
       "       [1., 0., 0.],\n",
       "       ...,\n",
       "       [1., 0., 0.],\n",
       "       [0., 0., 1.],\n",
       "       [0., 0., 1.]])"
      ]
     },
     "execution_count": 84,
     "metadata": {},
     "output_type": "execute_result"
    }
   ],
   "source": [
    "y_test1"
   ]
  },
  {
   "cell_type": "code",
   "execution_count": 100,
   "metadata": {
    "execution": {
     "iopub.execute_input": "2022-01-13T03:01:28.501293Z",
     "iopub.status.busy": "2022-01-13T03:01:28.501037Z",
     "iopub.status.idle": "2022-01-13T03:01:28.525280Z",
     "shell.execute_reply": "2022-01-13T03:01:28.524598Z",
     "shell.execute_reply.started": "2022-01-13T03:01:28.501263Z"
    }
   },
   "outputs": [
    {
     "name": "stderr",
     "output_type": "stream",
     "text": [
      "100%|██████████| 3787/3787 [00:00<00:00, 226046.41it/s]\n"
     ]
    }
   ],
   "source": [
    "y_pred=[]\n",
    "for i in tqdm(bert_pred):\n",
    "    pred=np.argmax(i)\n",
    "    y_pred.append(pred)"
   ]
  },
  {
   "cell_type": "code",
   "execution_count": 102,
   "metadata": {
    "execution": {
     "iopub.execute_input": "2022-01-13T03:01:38.844860Z",
     "iopub.status.busy": "2022-01-13T03:01:38.844298Z",
     "iopub.status.idle": "2022-01-13T03:01:38.850075Z",
     "shell.execute_reply": "2022-01-13T03:01:38.849360Z",
     "shell.execute_reply.started": "2022-01-13T03:01:38.844817Z"
    }
   },
   "outputs": [
    {
     "data": {
      "text/plain": [
       "[1, 0, 0, 2, 0]"
      ]
     },
     "execution_count": 102,
     "metadata": {},
     "output_type": "execute_result"
    }
   ],
   "source": [
    "y_pred[:5]"
   ]
  },
  {
   "cell_type": "code",
   "execution_count": 103,
   "metadata": {
    "execution": {
     "iopub.execute_input": "2022-01-13T03:01:47.661230Z",
     "iopub.status.busy": "2022-01-13T03:01:47.660968Z",
     "iopub.status.idle": "2022-01-13T03:01:47.667141Z",
     "shell.execute_reply": "2022-01-13T03:01:47.666490Z",
     "shell.execute_reply.started": "2022-01-13T03:01:47.661199Z"
    }
   },
   "outputs": [
    {
     "data": {
      "text/plain": [
       "array([1, 0, 0, 2, 0])"
      ]
     },
     "execution_count": 103,
     "metadata": {},
     "output_type": "execute_result"
    }
   ],
   "source": [
    "y_test[:5]"
   ]
  },
  {
   "cell_type": "code",
   "execution_count": 104,
   "metadata": {
    "execution": {
     "iopub.execute_input": "2022-01-13T03:03:11.111665Z",
     "iopub.status.busy": "2022-01-13T03:03:11.111386Z",
     "iopub.status.idle": "2022-01-13T03:03:11.128166Z",
     "shell.execute_reply": "2022-01-13T03:03:11.127526Z",
     "shell.execute_reply.started": "2022-01-13T03:03:11.111633Z"
    }
   },
   "outputs": [
    {
     "data": {
      "text/plain": [
       "array([[1442,   54,  133],\n",
       "       [  59,  491,   64],\n",
       "       [  83,   38, 1423]])"
      ]
     },
     "execution_count": 104,
     "metadata": {},
     "output_type": "execute_result"
    }
   ],
   "source": [
    "confusion_matrix(y_test,y_pred)"
   ]
  },
  {
   "cell_type": "code",
   "execution_count": 108,
   "metadata": {
    "execution": {
     "iopub.execute_input": "2022-01-13T03:13:50.833525Z",
     "iopub.status.busy": "2022-01-13T03:13:50.833268Z",
     "iopub.status.idle": "2022-01-13T03:13:50.839738Z",
     "shell.execute_reply": "2022-01-13T03:13:50.838988Z",
     "shell.execute_reply.started": "2022-01-13T03:13:50.833492Z"
    }
   },
   "outputs": [],
   "source": [
    "def conf_matrix(y, y_pred, title):\n",
    "    fig, ax =plt.subplots(figsize=(5,5))\n",
    "    labels=['Negative', 'Neutral', 'Positive']\n",
    "    ax=sns.heatmap(confusion_matrix(y, y_pred), annot=True, fmt='g', cbar=False, annot_kws={\"size\":25})\n",
    "    plt.title(title, fontsize=20)\n",
    "    ax.xaxis.set_ticklabels(labels, fontsize=17) \n",
    "    ax.yaxis.set_ticklabels(labels, fontsize=17)\n",
    "    ax.set_ylabel('Test', fontsize=20)\n",
    "    ax.set_xlabel('Predicted', fontsize=20)\n",
    "    plt.show()"
   ]
  },
  {
   "cell_type": "code",
   "execution_count": 109,
   "metadata": {
    "execution": {
     "iopub.execute_input": "2022-01-13T03:13:53.197315Z",
     "iopub.status.busy": "2022-01-13T03:13:53.197061Z",
     "iopub.status.idle": "2022-01-13T03:13:53.417064Z",
     "shell.execute_reply": "2022-01-13T03:13:53.416400Z",
     "shell.execute_reply.started": "2022-01-13T03:13:53.197285Z"
    }
   },
   "outputs": [
    {
     "data": {
      "image/png": "[encoded data removed]",
      "text/plain": [
       "<Figure size 360x360 with 1 Axes>"
      ]
     },
     "metadata": {},
     "output_type": "display_data"
    }
   ],
   "source": [
    "conf_matrix(y_test,y_pred,'Bert Predictions')"
   ]
  }
 ],
 "metadata": {
  "kernelspec": {
   "display_name": "Python 3",
   "language": "python",
   "name": "python3"
  },
  "language_info": {
   "codemirror_mode": {
    "name": "ipython",
    "version": 3
   },
   "file_extension": ".py",
   "mimetype": "text/x-python",
   "name": "python",
   "nbconvert_exporter": "python",
   "pygments_lexer": "ipython3",
   "version": "3.8.8"
  }
 },
 "nbformat": 4,
 "nbformat_minor": 4
}
